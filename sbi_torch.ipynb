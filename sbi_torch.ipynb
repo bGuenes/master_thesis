{
 "cells": [
  {
   "cell_type": "code",
   "execution_count": 1,
   "id": "initial_id",
   "metadata": {
    "collapsed": true,
    "ExecuteTime": {
     "end_time": "2024-08-13T13:38:01.617627Z",
     "start_time": "2024-08-13T13:37:57.252858Z"
    }
   },
   "outputs": [
    {
     "name": "stderr",
     "output_type": "stream",
     "text": [
      "/Users/bguenes/miniconda3/envs/master_chempy_multi/lib/python3.12/site-packages/tqdm/auto.py:21: TqdmWarning: IProgress not found. Please update jupyter and ipywidgets. See https://ipywidgets.readthedocs.io/en/stable/user_install.html\n",
      "  from .autonotebook import tqdm as notebook_tqdm\n"
     ]
    }
   ],
   "source": [
    "import numpy as np\n",
    "import matplotlib.pyplot as plt\n",
    "from scipy.stats import norm\n",
    "\n",
    "from Chempy.parameter import ModelParameters\n",
    "\n",
    "import sbi.utils as utils\n",
    "from sbi.inference import SNPE, prepare_for_sbi, simulate_for_sbi\n",
    "from sbi.analysis import pairplot\n",
    "\n",
    "import torch\n",
    "from torch.distributions.normal import Normal\n",
    "from torch.distributions.uniform import Uniform\n",
    "\n",
    "import time as t\n",
    "import pickle"
   ]
  },
  {
   "cell_type": "markdown",
   "source": [
    "# Load the data"
   ],
   "metadata": {
    "collapsed": false
   },
   "id": "4da844fae726a32e"
  },
  {
   "cell_type": "code",
   "execution_count": 2,
   "outputs": [],
   "source": [
    "# ------ Load & prepare the data ------\n",
    "\n",
    "# --- Load in training data ---\n",
    "path_training = '../ChempyMulti/tutorial_data/TNG_Training_Data.npz'\n",
    "training_data = np.load(path_training, mmap_mode='r')\n",
    "\n",
    "elements = training_data['elements']\n",
    "train_x = training_data['params']\n",
    "train_y = training_data['abundances']\n",
    "\n",
    "\n",
    "# ---  Load in the validation data ---\n",
    "path_test = '../ChempyMulti/tutorial_data/TNG_Test_Data.npz'\n",
    "val_data = np.load(path_test, mmap_mode='r')\n",
    "\n",
    "val_x = val_data['params']\n",
    "val_y = val_data['abundances']\n",
    "\n",
    "\n",
    "# --- Clean the data ---\n",
    "# Chempy sometimes returns zeros or infinite values, which need to removed\n",
    "def clean_data(x, y):\n",
    "    # Remove all zeros from the training data\n",
    "    index = np.where((y == 0).all(axis=1))[0]\n",
    "    x = np.delete(x, index, axis=0)\n",
    "    y = np.delete(y, index, axis=0)\n",
    "\n",
    "    # Remove all infinite values from the training data\n",
    "    index = np.where(np.isfinite(y).all(axis=1))[0]\n",
    "    x = x[index]\n",
    "    y = y[index]\n",
    "\n",
    "    return x, y\n",
    "\n",
    "\n",
    "train_x, train_y = clean_data(train_x, train_y)\n",
    "val_x, val_y     = clean_data(val_x, val_y)\n",
    "\n",
    "# convert to torch tensors\n",
    "train_x = torch.tensor(train_x, dtype=torch.float32)\n",
    "train_y = torch.tensor(train_y, dtype=torch.float32)\n",
    "val_x = torch.tensor(val_x, dtype=torch.float32)\n",
    "val_y = torch.tensor(val_y, dtype=torch.float32)"
   ],
   "metadata": {
    "collapsed": false,
    "ExecuteTime": {
     "end_time": "2024-08-13T13:38:03.173475Z",
     "start_time": "2024-08-13T13:38:03.097036Z"
    }
   },
   "id": "197d45fe9c2c3049"
  },
  {
   "cell_type": "code",
   "execution_count": 3,
   "outputs": [],
   "source": [
    "a = ModelParameters()\n",
    "labels = [a.to_optimize[i] for i in range(len(a.to_optimize))] + ['time']\n",
    "priors = torch.tensor([[a.priors[opt][0], a.priors[opt][1]] for opt in a.to_optimize])"
   ],
   "metadata": {
    "collapsed": false,
    "ExecuteTime": {
     "end_time": "2024-08-13T13:38:04.799171Z",
     "start_time": "2024-08-13T13:38:04.782384Z"
    }
   },
   "id": "bbb2b36f70fe6637"
  },
  {
   "cell_type": "markdown",
   "source": [
    "# Define the NN"
   ],
   "metadata": {
    "collapsed": false
   },
   "id": "ec047e04bed15c02"
  },
  {
   "cell_type": "code",
   "execution_count": 4,
   "outputs": [
    {
     "name": "stdout",
     "output_type": "stream",
     "text": [
      "using mps\n"
     ]
    }
   ],
   "source": [
    "if torch.backends.mps.is_available():\n",
    "    print(\"using mps\")\n",
    "    device = torch.device(\"cpu\")\n",
    "else:\n",
    "    print(\"using cpu\")\n",
    "    device = torch.device(\"cpu\")\n",
    "\n",
    "\n",
    "class Model_Torch(torch.nn.Module):\n",
    "    def __init__(self):\n",
    "        super(Model_Torch, self).__init__()\n",
    "        self.l1 = torch.nn.Linear(train_x.shape[1], 100)\n",
    "        self.l2 = torch.nn.Linear(100, 40)\n",
    "        self.l3 = torch.nn.Linear(40, train_y.shape[1])\n",
    "\n",
    "    def forward(self, x):\n",
    "        x = torch.tanh(self.l1(x))\n",
    "        x = torch.tanh(self.l2(x))\n",
    "        x = self.l3(x)\n",
    "        return x\n",
    "\n",
    "model = Model_Torch()\n",
    "model.to(device);"
   ],
   "metadata": {
    "collapsed": false,
    "ExecuteTime": {
     "end_time": "2024-08-13T13:38:06.374622Z",
     "start_time": "2024-08-13T13:38:06.366715Z"
    }
   },
   "id": "771bd6cef2b791b8"
  },
  {
   "cell_type": "markdown",
   "source": [
    "# Train the model"
   ],
   "metadata": {
    "collapsed": false
   },
   "id": "ac1bf0bfd03c2313"
  },
  {
   "cell_type": "code",
   "execution_count": 5,
   "outputs": [
    {
     "name": "stdout",
     "output_type": "stream",
     "text": [
      "Epoch 1/15 in 2.1s, Loss: 0.005347 | Val Loss: 0.00177\n",
      "Epoch 2/15 in 2.6s, Loss: 0.001049 | Val Loss: 0.001069\n",
      "Epoch 3/15 in 2.4s, Loss: 0.000695 | Val Loss: 0.000872\n",
      "Epoch 4/15 in 2.3s, Loss: 0.000534 | Val Loss: 0.000402\n",
      "Epoch 5/15 in 2.3s, Loss: 0.000439 | Val Loss: 0.000326\n",
      "Epoch 6/15 in 2.3s, Loss: 0.000389 | Val Loss: 0.000299\n",
      "Epoch 7/15 in 2.3s, Loss: 0.000357 | Val Loss: 0.000283\n",
      "Epoch 8/15 in 2.3s, Loss: 0.000335 | Val Loss: 0.000275\n",
      "Epoch 9/15 in 2.3s, Loss: 0.000318 | Val Loss: 0.000268\n",
      "Epoch 10/15 in 2.4s, Loss: 0.000304 | Val Loss: 0.000262\n",
      "Epoch 11/15 in 2.3s, Loss: 0.000293 | Val Loss: 0.000255\n",
      "Epoch 12/15 in 2.3s, Loss: 0.000283 | Val Loss: 0.000247\n",
      "Epoch 13/15 in 2.3s, Loss: 0.000274 | Val Loss: 0.000239\n",
      "Epoch 14/15 in 2.3s, Loss: 0.000267 | Val Loss: 0.000232\n",
      "Epoch 15/15 in 2.3s, Loss: 0.00026 | Val Loss: 0.000225\n",
      "Training finished | Total time: 34.8s\n"
     ]
    }
   ],
   "source": [
    "optimizer = torch.optim.Adam(model.parameters(), lr=0.001)\n",
    "loss_fn = torch.nn.MSELoss()\n",
    "\n",
    "# shuffle the data\n",
    "index = np.arange(train_x.shape[0])\n",
    "np.random.shuffle(index)\n",
    "train_x = train_x[index]\n",
    "train_y = train_y[index]\n",
    "\n",
    "# --- Train the neural network ---\n",
    "epochs = 15\n",
    "batch_size = 64\n",
    "ep_loss = []\n",
    "start = t.time()\n",
    "for epoch in range(epochs):\n",
    "    start_epoch = t.time()\n",
    "    train_loss = []\n",
    "    for i in range(0, train_x.shape[0], batch_size):\n",
    "        optimizer.zero_grad()\n",
    "        \n",
    "        # Get the batch\n",
    "        x_batch = train_x[i:i+batch_size].to(device)\n",
    "        y_batch = train_y[i:i+batch_size].to(device)\n",
    "        \n",
    "        # Forward pass\n",
    "        y_pred = model(x_batch)\n",
    "\n",
    "        # Compute Loss\n",
    "        loss = loss_fn(y_pred, y_batch)\n",
    "        train_loss.append(loss.item())\n",
    "        \n",
    "        # Backward pass\n",
    "        loss.backward(retain_graph=True)\n",
    "        optimizer.step()\n",
    "        \n",
    "    # Validation loss\n",
    "    y_pred = model(val_x)\n",
    "    val_loss = loss_fn(y_pred, val_y)\n",
    "    \n",
    "    train_loss = np.array(train_loss).mean()\n",
    "    ep_loss.append([train_loss, val_loss.item()])\n",
    "        \n",
    "    end_epoch = t.time()\n",
    "    epoch_time = end_epoch - start_epoch\n",
    "    \n",
    "    print(f'Epoch {epoch+1}/{epochs} in {round(epoch_time,1)}s, Loss: {round(train_loss,6)} | Val Loss: {round(val_loss.item(),6)}')\n",
    "print(f'Training finished | Total time: {round(end_epoch - start, 1)}s')"
   ],
   "metadata": {
    "collapsed": false,
    "ExecuteTime": {
     "end_time": "2024-08-13T13:38:43.745502Z",
     "start_time": "2024-08-13T13:38:08.249638Z"
    }
   },
   "id": "cbc674932e28392b"
  },
  {
   "cell_type": "code",
   "execution_count": 6,
   "outputs": [
    {
     "data": {
      "text/plain": "<Figure size 640x480 with 1 Axes>",
      "image/png": "[encoded data removed]"
     },
     "metadata": {},
     "output_type": "display_data"
    }
   ],
   "source": [
    "ep_loss = np.array(ep_loss)\n",
    "\n",
    "plt.plot(np.arange(epochs)+1, ep_loss[:,0], label='Training Loss')\n",
    "plt.plot(np.arange(epochs)+1, ep_loss[:,1], label='Validation Loss')\n",
    "plt.xlabel('Epoch', fontsize=14)\n",
    "plt.ylabel('MSE Loss', fontsize=14)\n",
    "plt.title('Training and Validation Loss', fontsize=14)\n",
    "plt.legend()\n",
    "plt.show()"
   ],
   "metadata": {
    "collapsed": false,
    "ExecuteTime": {
     "end_time": "2024-08-13T13:38:43.907702Z",
     "start_time": "2024-08-13T13:38:43.755885Z"
    }
   },
   "id": "4dee7b2b4de2f49b"
  },
  {
   "cell_type": "code",
   "execution_count": 7,
   "outputs": [
    {
     "data": {
      "text/plain": "<Figure size 640x480 with 1 Axes>",
      "image/png": "[encoded data removed]"
     },
     "metadata": {},
     "output_type": "display_data"
    }
   ],
   "source": [
    "# --- Calculate the L1 error ---\n",
    "l1_err = np.abs(model(val_x).detach().numpy() - val_y.numpy())\n",
    "p1,p2,p3=np.percentile(l1_err,[15.865,50.,100-17.865],axis=0).mean(axis=1)\n",
    "\n",
    "plt.hist(l1_err.flatten(), range=[0,.08], bins=100, density=True)\n",
    "plt.xlabel(r'L1 Error [dex]', fontsize=14)\n",
    "plt.ylabel(r'PDF', fontsize=14)\n",
    "\n",
    "plt.title(r'L1 error (averaged across elements): %.3f-%.3f+%.3f'%(p2,p2-p1,p3-p2), fontsize=14)\n",
    "plt.show()"
   ],
   "metadata": {
    "collapsed": false,
    "ExecuteTime": {
     "end_time": "2024-08-13T13:38:44.082122Z",
     "start_time": "2024-08-13T13:38:43.888146Z"
    }
   },
   "id": "4df62916d3c10c4e"
  },
  {
   "cell_type": "code",
   "execution_count": null,
   "outputs": [],
   "source": [
    "# --- Save the model ---\n",
    "torch.save(model.state_dict(), 'data/pytorch_state_dict.pt')"
   ],
   "metadata": {
    "collapsed": false
   },
   "id": "715398975ac1e67"
  },
  {
   "cell_type": "markdown",
   "source": [
    "# Train SBI"
   ],
   "metadata": {
    "collapsed": false
   },
   "id": "90e9435d8354a086"
  },
  {
   "cell_type": "code",
   "execution_count": null,
   "outputs": [],
   "source": [
    "# --- Load the model ---\n",
    "model = Model_Torch()\n",
    "model.load_state_dict(torch.load('data/pytorch_state_dict.pt'))\n",
    "model.to(device)\n",
    "model.eval();"
   ],
   "metadata": {
    "collapsed": false
   },
   "id": "6acdfd8f78add5f1"
  },
  {
   "cell_type": "code",
   "execution_count": 8,
   "outputs": [],
   "source": [
    "combined_priors = utils.MultipleIndependent(\n",
    "    [Normal(p[0]*torch.ones(1), p[1]*torch.ones(1)) for p in priors] +\n",
    "    [Uniform(torch.tensor([2.0]), torch.tensor([12.8]))],\n",
    "    validate_args=False)"
   ],
   "metadata": {
    "collapsed": false,
    "ExecuteTime": {
     "end_time": "2024-08-13T13:38:51.598686Z",
     "start_time": "2024-08-13T13:38:51.585527Z"
    }
   },
   "id": "e21d67937e4b8172"
  },
  {
   "cell_type": "code",
   "execution_count": 9,
   "outputs": [
    {
     "name": "stderr",
     "output_type": "stream",
     "text": [
      "Running 100 simulations.: 100%|██████████| 100/100 [00:00<00:00, 27784.21it/s]\n"
     ]
    },
    {
     "ename": "RuntimeError",
     "evalue": "one of the variables needed for gradient computation has been modified by an inplace operation: [torch.FloatTensor [9]], which is output 0 of StdBackward0, is at version 1; expected version 0 instead. Hint: enable anomaly detection to find the operation that failed to compute its gradient, with torch.autograd.set_detect_anomaly(True).",
     "output_type": "error",
     "traceback": [
      "\u001B[0;31m---------------------------------------------------------------------------\u001B[0m",
      "\u001B[0;31mRuntimeError\u001B[0m                              Traceback (most recent call last)",
      "Cell \u001B[0;32mIn[9], line 7\u001B[0m\n\u001B[1;32m      4\u001B[0m start \u001B[38;5;241m=\u001B[39m t\u001B[38;5;241m.\u001B[39mtime()\n\u001B[1;32m      6\u001B[0m theta, x \u001B[38;5;241m=\u001B[39m simulate_for_sbi(simulator, proposal\u001B[38;5;241m=\u001B[39mprior, num_simulations\u001B[38;5;241m=\u001B[39m\u001B[38;5;241m100\u001B[39m)\n\u001B[0;32m----> 7\u001B[0m density_estimator \u001B[38;5;241m=\u001B[39m inference\u001B[38;5;241m.\u001B[39mappend_simulations(theta, x)\u001B[38;5;241m.\u001B[39mtrain()\n\u001B[1;32m      8\u001B[0m posterior \u001B[38;5;241m=\u001B[39m inference\u001B[38;5;241m.\u001B[39mbuild_posterior(density_estimator)\n\u001B[1;32m     10\u001B[0m end \u001B[38;5;241m=\u001B[39m t\u001B[38;5;241m.\u001B[39mtime()\n",
      "File \u001B[0;32m~/miniconda3/envs/master_chempy_multi/lib/python3.12/site-packages/sbi/inference/snpe/snpe_c.py:180\u001B[0m, in \u001B[0;36mSNPE_C.train\u001B[0;34m(self, num_atoms, training_batch_size, learning_rate, validation_fraction, stop_after_epochs, max_num_epochs, clip_max_norm, calibration_kernel, resume_training, force_first_round_loss, discard_prior_samples, use_combined_loss, retrain_from_scratch, show_train_summary, dataloader_kwargs)\u001B[0m\n\u001B[1;32m    176\u001B[0m     \u001B[38;5;28;01mif\u001B[39;00m \u001B[38;5;28mself\u001B[39m\u001B[38;5;241m.\u001B[39muse_non_atomic_loss:\n\u001B[1;32m    177\u001B[0m         \u001B[38;5;66;03m# Take care of z-scoring, pre-compute and store prior terms.\u001B[39;00m\n\u001B[1;32m    178\u001B[0m         \u001B[38;5;28mself\u001B[39m\u001B[38;5;241m.\u001B[39m_set_state_for_mog_proposal()\n\u001B[0;32m--> 180\u001B[0m \u001B[38;5;28;01mreturn\u001B[39;00m \u001B[38;5;28msuper\u001B[39m()\u001B[38;5;241m.\u001B[39mtrain(\u001B[38;5;241m*\u001B[39m\u001B[38;5;241m*\u001B[39mkwargs)\n",
      "File \u001B[0;32m~/miniconda3/envs/master_chempy_multi/lib/python3.12/site-packages/sbi/inference/snpe/snpe_base.py:367\u001B[0m, in \u001B[0;36mPosteriorEstimator.train\u001B[0;34m(self, training_batch_size, learning_rate, validation_fraction, stop_after_epochs, max_num_epochs, clip_max_norm, calibration_kernel, resume_training, force_first_round_loss, discard_prior_samples, retrain_from_scratch, show_train_summary, dataloader_kwargs)\u001B[0m\n\u001B[1;32m    364\u001B[0m train_loss \u001B[38;5;241m=\u001B[39m torch\u001B[38;5;241m.\u001B[39mmean(train_losses)\n\u001B[1;32m    365\u001B[0m train_log_probs_sum \u001B[38;5;241m-\u001B[39m\u001B[38;5;241m=\u001B[39m train_losses\u001B[38;5;241m.\u001B[39msum()\u001B[38;5;241m.\u001B[39mitem()\n\u001B[0;32m--> 367\u001B[0m train_loss\u001B[38;5;241m.\u001B[39mbackward()\n\u001B[1;32m    368\u001B[0m \u001B[38;5;28;01mif\u001B[39;00m clip_max_norm \u001B[38;5;129;01mis\u001B[39;00m \u001B[38;5;129;01mnot\u001B[39;00m \u001B[38;5;28;01mNone\u001B[39;00m:\n\u001B[1;32m    369\u001B[0m     clip_grad_norm_(\n\u001B[1;32m    370\u001B[0m         \u001B[38;5;28mself\u001B[39m\u001B[38;5;241m.\u001B[39m_neural_net\u001B[38;5;241m.\u001B[39mparameters(), max_norm\u001B[38;5;241m=\u001B[39mclip_max_norm\n\u001B[1;32m    371\u001B[0m     )\n",
      "File \u001B[0;32m~/miniconda3/envs/master_chempy_multi/lib/python3.12/site-packages/torch/_tensor.py:525\u001B[0m, in \u001B[0;36mTensor.backward\u001B[0;34m(self, gradient, retain_graph, create_graph, inputs)\u001B[0m\n\u001B[1;32m    515\u001B[0m \u001B[38;5;28;01mif\u001B[39;00m has_torch_function_unary(\u001B[38;5;28mself\u001B[39m):\n\u001B[1;32m    516\u001B[0m     \u001B[38;5;28;01mreturn\u001B[39;00m handle_torch_function(\n\u001B[1;32m    517\u001B[0m         Tensor\u001B[38;5;241m.\u001B[39mbackward,\n\u001B[1;32m    518\u001B[0m         (\u001B[38;5;28mself\u001B[39m,),\n\u001B[0;32m   (...)\u001B[0m\n\u001B[1;32m    523\u001B[0m         inputs\u001B[38;5;241m=\u001B[39minputs,\n\u001B[1;32m    524\u001B[0m     )\n\u001B[0;32m--> 525\u001B[0m torch\u001B[38;5;241m.\u001B[39mautograd\u001B[38;5;241m.\u001B[39mbackward(\n\u001B[1;32m    526\u001B[0m     \u001B[38;5;28mself\u001B[39m, gradient, retain_graph, create_graph, inputs\u001B[38;5;241m=\u001B[39minputs\n\u001B[1;32m    527\u001B[0m )\n",
      "File \u001B[0;32m~/miniconda3/envs/master_chempy_multi/lib/python3.12/site-packages/torch/autograd/__init__.py:267\u001B[0m, in \u001B[0;36mbackward\u001B[0;34m(tensors, grad_tensors, retain_graph, create_graph, grad_variables, inputs)\u001B[0m\n\u001B[1;32m    262\u001B[0m     retain_graph \u001B[38;5;241m=\u001B[39m create_graph\n\u001B[1;32m    264\u001B[0m \u001B[38;5;66;03m# The reason we repeat the same comment below is that\u001B[39;00m\n\u001B[1;32m    265\u001B[0m \u001B[38;5;66;03m# some Python versions print out the first line of a multi-line function\u001B[39;00m\n\u001B[1;32m    266\u001B[0m \u001B[38;5;66;03m# calls in the traceback and some print out the last line\u001B[39;00m\n\u001B[0;32m--> 267\u001B[0m _engine_run_backward(\n\u001B[1;32m    268\u001B[0m     tensors,\n\u001B[1;32m    269\u001B[0m     grad_tensors_,\n\u001B[1;32m    270\u001B[0m     retain_graph,\n\u001B[1;32m    271\u001B[0m     create_graph,\n\u001B[1;32m    272\u001B[0m     inputs,\n\u001B[1;32m    273\u001B[0m     allow_unreachable\u001B[38;5;241m=\u001B[39m\u001B[38;5;28;01mTrue\u001B[39;00m,\n\u001B[1;32m    274\u001B[0m     accumulate_grad\u001B[38;5;241m=\u001B[39m\u001B[38;5;28;01mTrue\u001B[39;00m,\n\u001B[1;32m    275\u001B[0m )\n",
      "File \u001B[0;32m~/miniconda3/envs/master_chempy_multi/lib/python3.12/site-packages/torch/autograd/graph.py:744\u001B[0m, in \u001B[0;36m_engine_run_backward\u001B[0;34m(t_outputs, *args, **kwargs)\u001B[0m\n\u001B[1;32m    742\u001B[0m     unregister_hooks \u001B[38;5;241m=\u001B[39m _register_logging_hooks_on_whole_graph(t_outputs)\n\u001B[1;32m    743\u001B[0m \u001B[38;5;28;01mtry\u001B[39;00m:\n\u001B[0;32m--> 744\u001B[0m     \u001B[38;5;28;01mreturn\u001B[39;00m Variable\u001B[38;5;241m.\u001B[39m_execution_engine\u001B[38;5;241m.\u001B[39mrun_backward(  \u001B[38;5;66;03m# Calls into the C++ engine to run the backward pass\u001B[39;00m\n\u001B[1;32m    745\u001B[0m         t_outputs, \u001B[38;5;241m*\u001B[39margs, \u001B[38;5;241m*\u001B[39m\u001B[38;5;241m*\u001B[39mkwargs\n\u001B[1;32m    746\u001B[0m     )  \u001B[38;5;66;03m# Calls into the C++ engine to run the backward pass\u001B[39;00m\n\u001B[1;32m    747\u001B[0m \u001B[38;5;28;01mfinally\u001B[39;00m:\n\u001B[1;32m    748\u001B[0m     \u001B[38;5;28;01mif\u001B[39;00m attach_logging_hooks:\n",
      "\u001B[0;31mRuntimeError\u001B[0m: one of the variables needed for gradient computation has been modified by an inplace operation: [torch.FloatTensor [9]], which is output 0 of StdBackward0, is at version 1; expected version 0 instead. Hint: enable anomaly detection to find the operation that failed to compute its gradient, with torch.autograd.set_detect_anomaly(True)."
     ]
    }
   ],
   "source": [
    "simulator, prior = prepare_for_sbi(model, combined_priors)\n",
    "inference = SNPE(prior=prior)\n",
    "\n",
    "start = t.time()\n",
    "\n",
    "theta, x = simulate_for_sbi(simulator, proposal=prior, num_simulations=100)\n",
    "density_estimator = inference.append_simulations(theta, x).train()\n",
    "posterior = inference.build_posterior(density_estimator)\n",
    "\n",
    "end = t.time()\n",
    "comp_time = end - start\n",
    "print(f'Time taken to train the posterior with {len(train_y)} samples: '\n",
    "      f'{np.floor(comp_time/60).astype(\"int\")}min {np.floor(comp_time%60).astype(\"int\")}s')"
   ],
   "metadata": {
    "collapsed": false,
    "ExecuteTime": {
     "end_time": "2024-08-13T13:38:53.796882Z",
     "start_time": "2024-08-13T13:38:53.449990Z"
    }
   },
   "id": "24a9576707985533"
  },
  {
   "cell_type": "code",
   "execution_count": null,
   "outputs": [],
   "source": [
    "# --- Save the posterior ---    \n",
    "with open('data/posterior_SNPE_torch.pickle', 'wb') as f:\n",
    "    pickle.dump(posterior, f)"
   ],
   "metadata": {
    "collapsed": false
   },
   "id": "118b6146371f2080"
  },
  {
   "cell_type": "markdown",
   "source": [
    "# Visualize the posterior"
   ],
   "metadata": {
    "collapsed": false
   },
   "id": "e0e6b4d515d6912e"
  },
  {
   "cell_type": "code",
   "execution_count": null,
   "outputs": [],
   "source": [
    "with open('data/posterior_SNPE_torch.pickle', 'rb') as f:\n",
    "    posterior = pickle.load(f)"
   ],
   "metadata": {
    "collapsed": false
   },
   "id": "b3d716f5e33c3314"
  },
  {
   "cell_type": "code",
   "execution_count": null,
   "outputs": [],
   "source": [
    "# pick a random point from the validation data\n",
    "index = np.random.randint(0, len(val_x))\n",
    "x = val_x[index]\n",
    "y = val_y[index]\n",
    "\n",
    "print(f'Index: {index}')\n",
    "print(f'x: {x}')\n",
    "# sample 10000 points from the posterior\n",
    "posterior_samples = posterior.sample((10000,), x=y)\n",
    "# plot the posterior samples\n",
    "_ = pairplot(posterior_samples, figsize=(15, 15), points=x, labels=labels)"
   ],
   "metadata": {
    "collapsed": false
   },
   "id": "2092df10233b2599"
  },
  {
   "cell_type": "code",
   "execution_count": null,
   "outputs": [],
   "source": [
    "fig, ax = plt.subplots(2,3, figsize=(15, 10))\n",
    "\n",
    "for i in range(6):\n",
    "    \n",
    "    (mu, sigma) = norm.fit(posterior_samples.numpy().T[i])\n",
    "    true_value = val_x[index][i].numpy()\n",
    "\n",
    "    deviation = abs(true_value - mu) / sigma\n",
    "    \n",
    "    ax[i//3, i%3].hist(posterior_samples.numpy().T[i], bins=50, density=True, alpha=0.6, color='g')\n",
    "    xmin, xmax = ax[i//3, i%3].get_xlim()\n",
    "    x = np.linspace(xmin, xmax, 100)\n",
    "    p = norm.pdf(x, mu, sigma)\n",
    "    ax[i//3, i%3].plot(x, p, 'k', linewidth=2)\n",
    "    ax[i//3, i%3].axvline(x=true_value, color='r', linestyle='dashed', linewidth=2)\n",
    "    \n",
    "    ax[i//3, i%3].set_title(fr\"{labels[i]}: {true_value:.2f}\"\n",
    "                            \"\\n\"\n",
    "                            fr\"$\\mu$: {mu:.2f} $\\sigma$: {sigma:.2f}\"\n",
    "                            \"\\n\"\n",
    "                            fr\"Deviation: {deviation:.2f} $\\sigma$\")\n",
    "    \n",
    "plt.tight_layout()\n",
    "plt.show()"
   ],
   "metadata": {
    "collapsed": false
   },
   "id": "eaed0fb0059e8e9e"
  },
  {
   "cell_type": "code",
   "execution_count": null,
   "outputs": [],
   "source": [
    "print(\"Priors:\")\n",
    "for i in range(len(priors)):\n",
    "    print(fr'{labels[i]}: {priors[i][0].item():.2f} +/- {priors[i][1].item():.2f}')"
   ],
   "metadata": {
    "collapsed": false
   },
   "id": "a5f57d7981a5e6f8"
  }
 ],
 "metadata": {
  "kernelspec": {
   "display_name": "Python 3",
   "language": "python",
   "name": "python3"
  },
  "language_info": {
   "codemirror_mode": {
    "name": "ipython",
    "version": 2
   },
   "file_extension": ".py",
   "mimetype": "text/x-python",
   "name": "python",
   "nbconvert_exporter": "python",
   "pygments_lexer": "ipython2",
   "version": "2.7.6"
  }
 },
 "nbformat": 4,
 "nbformat_minor": 5
}
