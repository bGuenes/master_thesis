{
 "cells": [
  {
   "cell_type": "code",
   "execution_count": 1,
   "id": "initial_id",
   "metadata": {
    "ExecuteTime": {
     "end_time": "2024-07-19T10:51:36.916261Z",
     "start_time": "2024-07-19T10:51:35.870130Z"
    },
    "collapsed": true
   },
   "outputs": [
    {
     "name": "stderr",
     "output_type": "stream",
     "text": [
      "/Users/bguenes/miniconda3/envs/master/lib/python3.12/site-packages/tqdm/auto.py:21: TqdmWarning: IProgress not found. Please update jupyter and ipywidgets. See https://ipywidgets.readthedocs.io/en/stable/user_install.html\n",
      "  from .autonotebook import tqdm as notebook_tqdm\n"
     ]
    }
   ],
   "source": [
    "import torch\n",
    "import sbi.utils as utils\n",
    "from sbi.inference.base import infer"
   ]
  },
  {
   "cell_type": "code",
   "execution_count": 2,
   "id": "2ed849bf6d9751d4",
   "metadata": {
    "ExecuteTime": {
     "end_time": "2024-07-19T10:51:38.262285Z",
     "start_time": "2024-07-19T10:51:38.249670Z"
    },
    "collapsed": false
   },
   "outputs": [],
   "source": [
    "prior = utils.BoxUniform(\n",
    "    low=torch.tensor([-5., -5.]),\n",
    "    high=torch.tensor([5., 5.])\n",
    ")"
   ]
  },
  {
   "cell_type": "code",
   "execution_count": 3,
   "id": "fdb510d4dfcba2a3",
   "metadata": {
    "ExecuteTime": {
     "end_time": "2024-07-19T10:51:45.170063Z",
     "start_time": "2024-07-19T10:51:45.162911Z"
    },
    "collapsed": false
   },
   "outputs": [],
   "source": [
    "def simulator(mu):\n",
    "    # Generate samples from N(mu, sigma=0.5)\n",
    "    return mu + 0.5 * torch.randn_like(mu)"
   ]
  },
  {
   "cell_type": "code",
   "execution_count": 4,
   "id": "4323558e0e31ce8e",
   "metadata": {
    "ExecuteTime": {
     "end_time": "2024-07-19T10:51:50.122320Z",
     "start_time": "2024-07-19T10:51:47.154947Z"
    },
    "collapsed": false
   },
   "outputs": [
    {
     "name": "stderr",
     "output_type": "stream",
     "text": [
      "Running 200 simulations.: 100%|██████████| 200/200 [00:00<00:00, 71999.04it/s]\n"
     ]
    },
    {
     "name": "stdout",
     "output_type": "stream",
     "text": [
      " Neural network successfully converged after 100 epochs."
     ]
    }
   ],
   "source": [
    "num_sim = 200\n",
    "method = 'SNRE' #SNPE or SNLE or SNRE\n",
    "posterior = infer(\n",
    "    simulator,\n",
    "    prior,\n",
    "    method=method,\n",
    "    num_simulations=num_sim)"
   ]
  },
  {
   "cell_type": "code",
   "execution_count": 5,
   "id": "39bd980663569628",
   "metadata": {
    "ExecuteTime": {
     "end_time": "2024-07-19T10:51:50.125950Z",
     "start_time": "2024-07-19T10:51:50.122891Z"
    },
    "collapsed": false
   },
   "outputs": [],
   "source": [
    "n_observations = 5\n",
    "observation = torch.tensor([3., -1.5])[None] + 0.5*torch.randn(n_observations, 2)"
   ]
  },
  {
   "cell_type": "code",
   "execution_count": 14,
   "id": "173ced655ea698b5",
   "metadata": {
    "ExecuteTime": {
     "end_time": "2024-07-19T10:53:38.407482Z",
     "start_time": "2024-07-19T10:53:38.398574Z"
    },
    "collapsed": false
   },
   "outputs": [],
   "source": [
    "import seaborn as sns\n",
    "from matplotlib import pyplot as plt"
   ]
  },
  {
   "cell_type": "code",
   "execution_count": 15,
   "id": "75ac97ec77734161",
   "metadata": {
    "ExecuteTime": {
     "end_time": "2024-07-19T10:53:40.475175Z",
     "start_time": "2024-07-19T10:53:40.329926Z"
    },
    "collapsed": false
   },
   "outputs": [
    {
     "data": {
      "image/png": "[encoded data removed]",
      "text/plain": [
       "<Figure size 640x480 with 1 Axes>"
      ]
     },
     "metadata": {},
     "output_type": "display_data"
    }
   ],
   "source": [
    "sns.scatterplot(x=observation[:, 0], y=observation[:, 1])\n",
    "plt.xlabel(r'$x_1$')\n",
    "plt.ylabel(r'$x_2$')\n",
    "plt.xlim(-10, 10)\n",
    "plt.ylim(-10, 10)\n",
    "plt.show()"
   ]
  },
  {
   "cell_type": "code",
   "execution_count": 16,
   "id": "738c575b1f26982d",
   "metadata": {
    "ExecuteTime": {
     "end_time": "2024-07-19T10:54:22.477490Z",
     "start_time": "2024-07-19T10:53:53.573170Z"
    },
    "collapsed": false
   },
   "outputs": [
    {
     "name": "stderr",
     "output_type": "stream",
     "text": [
      "Tuning bracket width...: 100%|██████████| 50/50 [00:00<00:00, 334.28it/s]\n",
      "Generating samples: 100%|██████████| 2100/2100 [00:28<00:00, 73.19it/s]\n"
     ]
    }
   ],
   "source": [
    "samples = posterior.sample((200,), x=observation[0])"
   ]
  },
  {
   "cell_type": "code",
   "execution_count": 2,
   "id": "4a9e0043dfb1256",
   "metadata": {
    "collapsed": false
   },
   "outputs": [
    {
     "name": "stderr",
     "output_type": "stream",
     "text": [
      "/Users/bguenes/miniconda3/envs/master_chempy_multi/lib/python3.12/site-packages/tqdm/auto.py:21: TqdmWarning: IProgress not found. Please update jupyter and ipywidgets. See https://ipywidgets.readthedocs.io/en/stable/user_install.html\n",
      "  from .autonotebook import tqdm as notebook_tqdm\n"
     ]
    }
   ],
   "source": [
    "from Chempy.cem_function import single_timestep_chempy\n",
    "\n",
    "import numpy as np\n",
    "\n",
    "from sklearn.neural_network import MLPRegressor\n",
    "\n",
    "from Chempy.parameter import ModelParameters\n",
    "\n",
    "import sbi.utils as utils\n",
    "from sbi.inference.base import infer\n",
    "from sbi.analysis import pairplot\n",
    "\n",
    "#import ili\n",
    "\n",
    "import torch\n",
    "from torch.distributions.normal import Normal\n",
    "from torch.distributions.uniform import Uniform\n",
    "\n",
    "import tensorflow as tf\n",
    "\n",
    "import time as t\n",
    "import pickle"
   ]
  },
  {
   "cell_type": "code",
   "execution_count": 14,
   "id": "36e196d7",
   "metadata": {},
   "outputs": [
    {
     "ename": "IndexError",
     "evalue": "index 0 is out of bounds for dimension 0 with size 0",
     "output_type": "error",
     "traceback": [
      "\u001b[0;31m---------------------------------------------------------------------------\u001b[0m",
      "\u001b[0;31mIndexError\u001b[0m                                Traceback (most recent call last)",
      "Cell \u001b[0;32mIn[14], line 3\u001b[0m\n\u001b[1;32m      1\u001b[0m a \u001b[38;5;241m=\u001b[39m ModelParameters()\n\u001b[1;32m      2\u001b[0m p \u001b[38;5;241m=\u001b[39m combined_priors\u001b[38;5;241m.\u001b[39msample((\u001b[38;5;241m1\u001b[39m,))\n\u001b[0;32m----> 3\u001b[0m single_timestep_chempy((p,a))\n",
      "File \u001b[0;32m~/Documents/Uni/Master/Masterarbeit/master_thesis/Chempy/cem_function.py:622\u001b[0m, in \u001b[0;36msingle_timestep_chempy\u001b[0;34m(args)\u001b[0m\n\u001b[1;32m    619\u001b[0m birth_time \u001b[38;5;241m=\u001b[39m all_parameter[\u001b[38;5;241m-\u001b[39m\u001b[38;5;241m1\u001b[39m] \u001b[38;5;66;03m# time of star birth\u001b[39;00m\n\u001b[1;32m    621\u001b[0m \u001b[38;5;66;03m# Update the parameters + priors:\u001b[39;00m\n\u001b[0;32m--> 622\u001b[0m a \u001b[38;5;241m=\u001b[39m extract_parameters_and_priors(changing_parameter,a)\n\u001b[1;32m    624\u001b[0m \u001b[38;5;66;03m# Save the output time etc. which is changed by the actual calculation but restored to default afterwards\u001b[39;00m\n\u001b[1;32m    625\u001b[0m backup \u001b[38;5;241m=\u001b[39m a\u001b[38;5;241m.\u001b[39mend, a\u001b[38;5;241m.\u001b[39mtime_steps, a\u001b[38;5;241m.\u001b[39mtotal_mass\n",
      "File \u001b[0;32m~/Documents/Uni/Master/Masterarbeit/master_thesis/Chempy/cem_function.py:847\u001b[0m, in \u001b[0;36mextract_parameters_and_priors\u001b[0;34m(changing_parameter, a)\u001b[0m\n\u001b[1;32m    843\u001b[0m \u001b[38;5;250m\u001b[39m\u001b[38;5;124;03m'''\u001b[39;00m\n\u001b[1;32m    844\u001b[0m \u001b[38;5;124;03mThis function extracts the parameters from changing parameters and writes them into the ModelParamaters (a), so that Chempy can evaluate the changed parameter settings\u001b[39;00m\n\u001b[1;32m    845\u001b[0m \u001b[38;5;124;03m'''\u001b[39;00m\n\u001b[1;32m    846\u001b[0m \u001b[38;5;28;01mfor\u001b[39;00m i,item \u001b[38;5;129;01min\u001b[39;00m \u001b[38;5;28menumerate\u001b[39m(a\u001b[38;5;241m.\u001b[39mto_optimize):\n\u001b[0;32m--> 847\u001b[0m     \u001b[38;5;28msetattr\u001b[39m(a, item, changing_parameter[i])\n\u001b[1;32m    848\u001b[0m     val \u001b[38;5;241m=\u001b[39m \u001b[38;5;28mgetattr\u001b[39m(a, item)\n\u001b[1;32m    850\u001b[0m start_time \u001b[38;5;241m=\u001b[39m time\u001b[38;5;241m.\u001b[39mtime()\n",
      "\u001b[0;31mIndexError\u001b[0m: index 0 is out of bounds for dimension 0 with size 0"
     ]
    }
   ],
   "source": [
    "a = ModelParameters()\n",
    "p = combined_priors.sample((1,))\n",
    "single_timestep_chempy((p,a))"
   ]
  },
  {
   "cell_type": "code",
   "execution_count": 3,
   "id": "6e712c09",
   "metadata": {},
   "outputs": [],
   "source": [
    "# ----- Load the Network -----\n",
    "# Load network weights trained in train_chempyNN.py\n",
    "x = np.load('data/tutorial_weights.npz')\n",
    "\n",
    "w0 = x['w0']\n",
    "w1 = x['w1']\n",
    "b0 = x['b0']\n",
    "b1 = x['b1']\n",
    "in_mean = x['in_mean']\n",
    "in_std = x['in_std']\n",
    "out_mean = x['out_mean']\n",
    "out_std = x['out_std']\n",
    "activation = x['activation']\n",
    "neurons = x['neurons']\n",
    "\n",
    "# --- Load the tensorflow model ---\n",
    "model = tf.keras.models.load_model('data/tutorial_weights_tf.keras')"
   ]
  },
  {
   "cell_type": "code",
   "execution_count": 4,
   "id": "c3ae5602",
   "metadata": {},
   "outputs": [],
   "source": [
    "# ----- Set-up the Simulator -----\n",
    "def add_time_squared(x):\n",
    "    time_squared = np.array([x.T[-1]**2]).T\n",
    "    if len(x.shape) == 1:\n",
    "        return np.concatenate((x, time_squared))\n",
    "    elif len(x.shape) == 2:\n",
    "        return np.concatenate((x, time_squared), axis=1)\n",
    "    \n",
    "    \n",
    "def simulator_NN_tf(in_par):\n",
    "    in_par = (in_par - in_mean) / in_std\n",
    "    in_par = add_time_squared(in_par)\n",
    "\n",
    "    out = model.predict(in_par, verbose=0)\n",
    "\n",
    "    return out * out_std + out_mean"
   ]
  },
  {
   "cell_type": "code",
   "execution_count": 5,
   "id": "be0c696d",
   "metadata": {},
   "outputs": [],
   "source": [
    "# ----- Set-up the Simulator -----\n",
    "def add_time_squared(x):\n",
    "    time_squared = np.array([x.T[-1]**2]).T\n",
    "    if len(x.shape) == 1:\n",
    "        return np.concatenate((x, time_squared))\n",
    "    elif len(x.shape) == 2:\n",
    "        return np.concatenate((x, time_squared), axis=1)\n",
    "\n",
    "\n",
    "def simulator_NN(in_par):\n",
    "    in_par = (in_par - in_mean) / in_std\n",
    "    in_par = add_time_squared(in_par)\n",
    "\n",
    "    l1 = np.matmul(in_par, w0) + b0\n",
    "    l2 = np.matmul(np.tanh(l1), w1) + b1\n",
    "\n",
    "    return l2 * out_std + out_mean"
   ]
  },
  {
   "cell_type": "code",
   "execution_count": 6,
   "id": "51ed9176",
   "metadata": {},
   "outputs": [],
   "source": [
    "# ----- Set-up priors -----\n",
    "a = ModelParameters()\n",
    "priors = torch.tensor([[a.priors[opt][0], a.priors[opt][1]] for opt in a.to_optimize])\n",
    "\n",
    "combined_priors = utils.MultipleIndependent(\n",
    "    [Normal(p[0]*torch.ones(1), p[1]*torch.ones(1)) for p in priors] +\n",
    "    [Uniform(torch.tensor([2.0]), torch.tensor([12.8]))],\n",
    "    validate_args=False)"
   ]
  },
  {
   "cell_type": "code",
   "execution_count": null,
   "id": "7dc7c104",
   "metadata": {},
   "outputs": [
    {
     "name": "stderr",
     "output_type": "stream",
     "text": [
      "Running 1000 simulations.: 100%|██████████| 1000/1000 [00:18<00:00, 54.36it/s]"
     ]
    },
    {
     "ename": "",
     "evalue": "",
     "output_type": "error",
     "traceback": [
      "\u001b[1;31mThe Kernel crashed while executing code in the current cell or a previous cell. \n",
      "\u001b[1;31mPlease review the code in the cell(s) to identify a possible cause of the failure. \n",
      "\u001b[1;31mClick <a href='https://aka.ms/vscodeJupyterKernelCrash'>here</a> for more info. \n",
      "\u001b[1;31mView Jupyter <a href='command:jupyter.viewOutput'>log</a> for further details."
     ]
    }
   ],
   "source": [
    "# ----- sbi setup -----\n",
    "num_sim = 1000\n",
    "method = 'SNPE' #SNPE or SNLE or SNRE\n",
    "\n",
    "start = t.time()\n",
    "posterior = infer(\n",
    "    simulator_NN_tf,\n",
    "    combined_priors,\n",
    "    method=method,\n",
    "    num_simulations=num_sim)\n",
    "\n",
    "print(f'Time taken to train the posterior with {num_sim} samples: {round(t.time() - start, 4)}s')"
   ]
  }
 ],
 "metadata": {
  "kernelspec": {
   "display_name": "Python 3",
   "language": "python",
   "name": "python3"
  },
  "language_info": {
   "codemirror_mode": {
    "name": "ipython",
    "version": 3
   },
   "file_extension": ".py",
   "mimetype": "text/x-python",
   "name": "python",
   "nbconvert_exporter": "python",
   "pygments_lexer": "ipython3",
   "version": "3.12.4"
  }
 },
 "nbformat": 4,
 "nbformat_minor": 5
}
