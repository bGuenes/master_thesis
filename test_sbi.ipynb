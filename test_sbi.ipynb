{
 "cells": [
  {
   "cell_type": "code",
   "execution_count": 1,
   "id": "initial_id",
   "metadata": {
    "collapsed": true,
    "ExecuteTime": {
     "end_time": "2024-07-19T08:57:50.682628Z",
     "start_time": "2024-07-19T08:57:49.722336Z"
    }
   },
   "outputs": [
    {
     "name": "stderr",
     "output_type": "stream",
     "text": [
      "/Users/bguenes/miniconda3/envs/master/lib/python3.12/site-packages/tqdm/auto.py:21: TqdmWarning: IProgress not found. Please update jupyter and ipywidgets. See https://ipywidgets.readthedocs.io/en/stable/user_install.html\n",
      "  from .autonotebook import tqdm as notebook_tqdm\n"
     ]
    }
   ],
   "source": [
    "import torch\n",
    "import sbi.utils as utils\n",
    "from sbi.inference.base import infer"
   ]
  },
  {
   "cell_type": "code",
   "execution_count": 2,
   "outputs": [],
   "source": [
    "prior = utils.BoxUniform(\n",
    "    low=torch.tensor([-5., -5.]),\n",
    "    high=torch.tensor([5., 5.])\n",
    ")"
   ],
   "metadata": {
    "collapsed": false,
    "ExecuteTime": {
     "end_time": "2024-07-19T08:57:50.689149Z",
     "start_time": "2024-07-19T08:57:50.682830Z"
    }
   },
   "id": "2ed849bf6d9751d4"
  },
  {
   "cell_type": "code",
   "execution_count": 3,
   "outputs": [],
   "source": [
    "def simulator(mu):\n",
    "    # Generate samples from N(mu, sigma=0.5)\n",
    "    \n",
    "    return mu + 0.5 * torch.randn_like(mu)"
   ],
   "metadata": {
    "collapsed": false,
    "ExecuteTime": {
     "end_time": "2024-07-19T08:57:50.689371Z",
     "start_time": "2024-07-19T08:57:50.686213Z"
    }
   },
   "id": "fdb510d4dfcba2a3"
  },
  {
   "cell_type": "code",
   "execution_count": 4,
   "outputs": [
    {
     "name": "stderr",
     "output_type": "stream",
     "text": [
      "Running 200 simulations in 200 batches.:   0%|          | 0/200 [00:02<?, ?it/s]\n"
     ]
    },
    {
     "ename": "TypeError",
     "evalue": "The only supported seed types are: None,\nint, float, str, bytes, and bytearray.",
     "output_type": "error",
     "traceback": [
      "\u001B[0;31m---------------------------------------------------------------------------\u001B[0m",
      "\u001B[0;31m_RemoteTraceback\u001B[0m                          Traceback (most recent call last)",
      "\u001B[0;31m_RemoteTraceback\u001B[0m: \n\"\"\"\nTraceback (most recent call last):\n  File \"/Users/bguenes/miniconda3/envs/master/lib/python3.12/site-packages/joblib/externals/loky/process_executor.py\", line 463, in _process_worker\n    r = call_item()\n        ^^^^^^^^^^^\n  File \"/Users/bguenes/miniconda3/envs/master/lib/python3.12/site-packages/joblib/externals/loky/process_executor.py\", line 291, in __call__\n    return self.fn(*self.args, **self.kwargs)\n           ^^^^^^^^^^^^^^^^^^^^^^^^^^^^^^^^^^\n  File \"/Users/bguenes/miniconda3/envs/master/lib/python3.12/site-packages/joblib/parallel.py\", line 598, in __call__\n    return [func(*args, **kwargs)\n            ^^^^^^^^^^^^^^^^^^^^^\n  File \"/Users/bguenes/miniconda3/envs/master/lib/python3.12/site-packages/sbi/simulators/simutils.py\", line 60, in simulator_seeded\n    seed_all_backends(seed)\n  File \"/Users/bguenes/miniconda3/envs/master/lib/python3.12/site-packages/sbi/utils/sbiutils.py\", line 923, in seed_all_backends\n    random.seed(seed)\n  File \"/Users/bguenes/miniconda3/envs/master/lib/python3.12/random.py\", line 167, in seed\n    raise TypeError('The only supported seed types are: None,\\n'\nTypeError: The only supported seed types are: None,\nint, float, str, bytes, and bytearray.\n\"\"\"",
      "\nThe above exception was the direct cause of the following exception:\n",
      "\u001B[0;31mTypeError\u001B[0m                                 Traceback (most recent call last)",
      "Cell \u001B[0;32mIn[4], line 3\u001B[0m\n\u001B[1;32m      1\u001B[0m num_sim \u001B[38;5;241m=\u001B[39m \u001B[38;5;241m200\u001B[39m\n\u001B[1;32m      2\u001B[0m method \u001B[38;5;241m=\u001B[39m \u001B[38;5;124m'\u001B[39m\u001B[38;5;124mSNRE\u001B[39m\u001B[38;5;124m'\u001B[39m \u001B[38;5;66;03m#SNPE or SNLE or SNRE\u001B[39;00m\n\u001B[0;32m----> 3\u001B[0m posterior \u001B[38;5;241m=\u001B[39m infer(\n\u001B[1;32m      4\u001B[0m     simulator,\n\u001B[1;32m      5\u001B[0m     prior,\n\u001B[1;32m      6\u001B[0m     \u001B[38;5;66;03m# See glossary for explanation of methods.\u001B[39;00m\n\u001B[1;32m      7\u001B[0m     \u001B[38;5;66;03m#    SNRE newer than SNLE newer than SNPE.\u001B[39;00m\n\u001B[1;32m      8\u001B[0m     method\u001B[38;5;241m=\u001B[39mmethod,\n\u001B[1;32m      9\u001B[0m     num_workers\u001B[38;5;241m=\u001B[39m\u001B[38;5;241m-\u001B[39m\u001B[38;5;241m1\u001B[39m,\n\u001B[1;32m     10\u001B[0m     num_simulations\u001B[38;5;241m=\u001B[39mnum_sim)\n",
      "File \u001B[0;32m~/miniconda3/envs/master/lib/python3.12/site-packages/sbi/inference/base.py:72\u001B[0m, in \u001B[0;36minfer\u001B[0;34m(simulator, prior, method, num_simulations, num_workers)\u001B[0m\n\u001B[1;32m     69\u001B[0m simulator, prior \u001B[38;5;241m=\u001B[39m prepare_for_sbi(simulator, prior)\n\u001B[1;32m     71\u001B[0m inference \u001B[38;5;241m=\u001B[39m method_fun(prior\u001B[38;5;241m=\u001B[39mprior)\n\u001B[0;32m---> 72\u001B[0m theta, x \u001B[38;5;241m=\u001B[39m simulate_for_sbi(\n\u001B[1;32m     73\u001B[0m     simulator\u001B[38;5;241m=\u001B[39msimulator,\n\u001B[1;32m     74\u001B[0m     proposal\u001B[38;5;241m=\u001B[39mprior,\n\u001B[1;32m     75\u001B[0m     num_simulations\u001B[38;5;241m=\u001B[39mnum_simulations,\n\u001B[1;32m     76\u001B[0m     num_workers\u001B[38;5;241m=\u001B[39mnum_workers,\n\u001B[1;32m     77\u001B[0m )\n\u001B[1;32m     78\u001B[0m _ \u001B[38;5;241m=\u001B[39m inference\u001B[38;5;241m.\u001B[39mappend_simulations(theta, x)\u001B[38;5;241m.\u001B[39mtrain()\n\u001B[1;32m     79\u001B[0m posterior \u001B[38;5;241m=\u001B[39m inference\u001B[38;5;241m.\u001B[39mbuild_posterior()\n",
      "File \u001B[0;32m~/miniconda3/envs/master/lib/python3.12/site-packages/sbi/inference/base.py:495\u001B[0m, in \u001B[0;36msimulate_for_sbi\u001B[0;34m(simulator, proposal, num_simulations, num_workers, simulation_batch_size, seed, show_progress_bar)\u001B[0m\n\u001B[1;32m    465\u001B[0m \u001B[38;5;250m\u001B[39m\u001B[38;5;124mr\u001B[39m\u001B[38;5;124;03m\"\"\"Returns ($\\theta, x$) pairs obtained from sampling the proposal and simulating.\u001B[39;00m\n\u001B[1;32m    466\u001B[0m \n\u001B[1;32m    467\u001B[0m \u001B[38;5;124;03mThis function performs two steps:\u001B[39;00m\n\u001B[0;32m   (...)\u001B[0m\n\u001B[1;32m    490\u001B[0m \u001B[38;5;124;03mReturns: Sampled parameters $\\theta$ and simulation-outputs $x$.\u001B[39;00m\n\u001B[1;32m    491\u001B[0m \u001B[38;5;124;03m\"\"\"\u001B[39;00m\n\u001B[1;32m    493\u001B[0m theta \u001B[38;5;241m=\u001B[39m proposal\u001B[38;5;241m.\u001B[39msample((num_simulations,))\n\u001B[0;32m--> 495\u001B[0m x \u001B[38;5;241m=\u001B[39m simulate_in_batches(\n\u001B[1;32m    496\u001B[0m     simulator\u001B[38;5;241m=\u001B[39msimulator,\n\u001B[1;32m    497\u001B[0m     theta\u001B[38;5;241m=\u001B[39mtheta,\n\u001B[1;32m    498\u001B[0m     sim_batch_size\u001B[38;5;241m=\u001B[39msimulation_batch_size,\n\u001B[1;32m    499\u001B[0m     num_workers\u001B[38;5;241m=\u001B[39mnum_workers,\n\u001B[1;32m    500\u001B[0m     seed\u001B[38;5;241m=\u001B[39mseed,\n\u001B[1;32m    501\u001B[0m     show_progress_bars\u001B[38;5;241m=\u001B[39mshow_progress_bar,\n\u001B[1;32m    502\u001B[0m )\n\u001B[1;32m    504\u001B[0m \u001B[38;5;28;01mreturn\u001B[39;00m theta, x\n",
      "File \u001B[0;32m~/miniconda3/envs/master/lib/python3.12/site-packages/sbi/simulators/simutils.py:74\u001B[0m, in \u001B[0;36msimulate_in_batches\u001B[0;34m(simulator, theta, sim_batch_size, num_workers, seed, show_progress_bars)\u001B[0m\n\u001B[1;32m     63\u001B[0m     \u001B[38;5;66;03m# Parallelize the sequence of batches across workers.\u001B[39;00m\n\u001B[1;32m     64\u001B[0m     \u001B[38;5;66;03m# We use the solution proposed here: https://stackoverflow.com/a/61689175\u001B[39;00m\n\u001B[1;32m     65\u001B[0m     \u001B[38;5;66;03m# to update the pbar only after the workers finished a task.\u001B[39;00m\n\u001B[1;32m     66\u001B[0m     \u001B[38;5;28;01mwith\u001B[39;00m tqdm_joblib(\n\u001B[1;32m     67\u001B[0m         tqdm(\n\u001B[1;32m     68\u001B[0m             batches,\n\u001B[0;32m   (...)\u001B[0m\n\u001B[1;32m     72\u001B[0m         )\n\u001B[1;32m     73\u001B[0m     ) \u001B[38;5;28;01mas\u001B[39;00m _:\n\u001B[0;32m---> 74\u001B[0m         simulation_outputs \u001B[38;5;241m=\u001B[39m Parallel(n_jobs\u001B[38;5;241m=\u001B[39mnum_workers)(\n\u001B[1;32m     75\u001B[0m             delayed(simulator_seeded)(batch, batch_seed)\n\u001B[1;32m     76\u001B[0m             \u001B[38;5;28;01mfor\u001B[39;00m batch, batch_seed \u001B[38;5;129;01min\u001B[39;00m \u001B[38;5;28mzip\u001B[39m(batches, batch_seeds)\n\u001B[1;32m     77\u001B[0m         )\n\u001B[1;32m     78\u001B[0m \u001B[38;5;28;01melse\u001B[39;00m:\n\u001B[1;32m     79\u001B[0m     pbar \u001B[38;5;241m=\u001B[39m tqdm(\n\u001B[1;32m     80\u001B[0m         total\u001B[38;5;241m=\u001B[39mnum_sims,\n\u001B[1;32m     81\u001B[0m         disable\u001B[38;5;241m=\u001B[39m\u001B[38;5;129;01mnot\u001B[39;00m show_progress_bars,\n\u001B[1;32m     82\u001B[0m         desc\u001B[38;5;241m=\u001B[39m\u001B[38;5;124mf\u001B[39m\u001B[38;5;124m\"\u001B[39m\u001B[38;5;124mRunning \u001B[39m\u001B[38;5;132;01m{\u001B[39;00mnum_sims\u001B[38;5;132;01m}\u001B[39;00m\u001B[38;5;124m simulations.\u001B[39m\u001B[38;5;124m\"\u001B[39m,\n\u001B[1;32m     83\u001B[0m     )\n",
      "File \u001B[0;32m~/miniconda3/envs/master/lib/python3.12/site-packages/joblib/parallel.py:2007\u001B[0m, in \u001B[0;36mParallel.__call__\u001B[0;34m(self, iterable)\u001B[0m\n\u001B[1;32m   2001\u001B[0m \u001B[38;5;66;03m# The first item from the output is blank, but it makes the interpreter\u001B[39;00m\n\u001B[1;32m   2002\u001B[0m \u001B[38;5;66;03m# progress until it enters the Try/Except block of the generator and\u001B[39;00m\n\u001B[1;32m   2003\u001B[0m \u001B[38;5;66;03m# reaches the first `yield` statement. This starts the asynchronous\u001B[39;00m\n\u001B[1;32m   2004\u001B[0m \u001B[38;5;66;03m# dispatch of the tasks to the workers.\u001B[39;00m\n\u001B[1;32m   2005\u001B[0m \u001B[38;5;28mnext\u001B[39m(output)\n\u001B[0;32m-> 2007\u001B[0m \u001B[38;5;28;01mreturn\u001B[39;00m output \u001B[38;5;28;01mif\u001B[39;00m \u001B[38;5;28mself\u001B[39m\u001B[38;5;241m.\u001B[39mreturn_generator \u001B[38;5;28;01melse\u001B[39;00m \u001B[38;5;28mlist\u001B[39m(output)\n",
      "File \u001B[0;32m~/miniconda3/envs/master/lib/python3.12/site-packages/joblib/parallel.py:1650\u001B[0m, in \u001B[0;36mParallel._get_outputs\u001B[0;34m(self, iterator, pre_dispatch)\u001B[0m\n\u001B[1;32m   1647\u001B[0m     \u001B[38;5;28;01myield\u001B[39;00m\n\u001B[1;32m   1649\u001B[0m     \u001B[38;5;28;01mwith\u001B[39;00m \u001B[38;5;28mself\u001B[39m\u001B[38;5;241m.\u001B[39m_backend\u001B[38;5;241m.\u001B[39mretrieval_context():\n\u001B[0;32m-> 1650\u001B[0m         \u001B[38;5;28;01myield from\u001B[39;00m \u001B[38;5;28mself\u001B[39m\u001B[38;5;241m.\u001B[39m_retrieve()\n\u001B[1;32m   1652\u001B[0m \u001B[38;5;28;01mexcept\u001B[39;00m \u001B[38;5;167;01mGeneratorExit\u001B[39;00m:\n\u001B[1;32m   1653\u001B[0m     \u001B[38;5;66;03m# The generator has been garbage collected before being fully\u001B[39;00m\n\u001B[1;32m   1654\u001B[0m     \u001B[38;5;66;03m# consumed. This aborts the remaining tasks if possible and warn\u001B[39;00m\n\u001B[1;32m   1655\u001B[0m     \u001B[38;5;66;03m# the user if necessary.\u001B[39;00m\n\u001B[1;32m   1656\u001B[0m     \u001B[38;5;28mself\u001B[39m\u001B[38;5;241m.\u001B[39m_exception \u001B[38;5;241m=\u001B[39m \u001B[38;5;28;01mTrue\u001B[39;00m\n",
      "File \u001B[0;32m~/miniconda3/envs/master/lib/python3.12/site-packages/joblib/parallel.py:1754\u001B[0m, in \u001B[0;36mParallel._retrieve\u001B[0;34m(self)\u001B[0m\n\u001B[1;32m   1747\u001B[0m \u001B[38;5;28;01mwhile\u001B[39;00m \u001B[38;5;28mself\u001B[39m\u001B[38;5;241m.\u001B[39m_wait_retrieval():\n\u001B[1;32m   1748\u001B[0m \n\u001B[1;32m   1749\u001B[0m     \u001B[38;5;66;03m# If the callback thread of a worker has signaled that its task\u001B[39;00m\n\u001B[1;32m   1750\u001B[0m     \u001B[38;5;66;03m# triggered an exception, or if the retrieval loop has raised an\u001B[39;00m\n\u001B[1;32m   1751\u001B[0m     \u001B[38;5;66;03m# exception (e.g. `GeneratorExit`), exit the loop and surface the\u001B[39;00m\n\u001B[1;32m   1752\u001B[0m     \u001B[38;5;66;03m# worker traceback.\u001B[39;00m\n\u001B[1;32m   1753\u001B[0m     \u001B[38;5;28;01mif\u001B[39;00m \u001B[38;5;28mself\u001B[39m\u001B[38;5;241m.\u001B[39m_aborting:\n\u001B[0;32m-> 1754\u001B[0m         \u001B[38;5;28mself\u001B[39m\u001B[38;5;241m.\u001B[39m_raise_error_fast()\n\u001B[1;32m   1755\u001B[0m         \u001B[38;5;28;01mbreak\u001B[39;00m\n\u001B[1;32m   1757\u001B[0m     \u001B[38;5;66;03m# If the next job is not ready for retrieval yet, we just wait for\u001B[39;00m\n\u001B[1;32m   1758\u001B[0m     \u001B[38;5;66;03m# async callbacks to progress.\u001B[39;00m\n",
      "File \u001B[0;32m~/miniconda3/envs/master/lib/python3.12/site-packages/joblib/parallel.py:1789\u001B[0m, in \u001B[0;36mParallel._raise_error_fast\u001B[0;34m(self)\u001B[0m\n\u001B[1;32m   1785\u001B[0m \u001B[38;5;66;03m# If this error job exists, immediately raise the error by\u001B[39;00m\n\u001B[1;32m   1786\u001B[0m \u001B[38;5;66;03m# calling get_result. This job might not exists if abort has been\u001B[39;00m\n\u001B[1;32m   1787\u001B[0m \u001B[38;5;66;03m# called directly or if the generator is gc'ed.\u001B[39;00m\n\u001B[1;32m   1788\u001B[0m \u001B[38;5;28;01mif\u001B[39;00m error_job \u001B[38;5;129;01mis\u001B[39;00m \u001B[38;5;129;01mnot\u001B[39;00m \u001B[38;5;28;01mNone\u001B[39;00m:\n\u001B[0;32m-> 1789\u001B[0m     error_job\u001B[38;5;241m.\u001B[39mget_result(\u001B[38;5;28mself\u001B[39m\u001B[38;5;241m.\u001B[39mtimeout)\n",
      "File \u001B[0;32m~/miniconda3/envs/master/lib/python3.12/site-packages/joblib/parallel.py:745\u001B[0m, in \u001B[0;36mBatchCompletionCallBack.get_result\u001B[0;34m(self, timeout)\u001B[0m\n\u001B[1;32m    739\u001B[0m backend \u001B[38;5;241m=\u001B[39m \u001B[38;5;28mself\u001B[39m\u001B[38;5;241m.\u001B[39mparallel\u001B[38;5;241m.\u001B[39m_backend\n\u001B[1;32m    741\u001B[0m \u001B[38;5;28;01mif\u001B[39;00m backend\u001B[38;5;241m.\u001B[39msupports_retrieve_callback:\n\u001B[1;32m    742\u001B[0m     \u001B[38;5;66;03m# We assume that the result has already been retrieved by the\u001B[39;00m\n\u001B[1;32m    743\u001B[0m     \u001B[38;5;66;03m# callback thread, and is stored internally. It's just waiting to\u001B[39;00m\n\u001B[1;32m    744\u001B[0m     \u001B[38;5;66;03m# be returned.\u001B[39;00m\n\u001B[0;32m--> 745\u001B[0m     \u001B[38;5;28;01mreturn\u001B[39;00m \u001B[38;5;28mself\u001B[39m\u001B[38;5;241m.\u001B[39m_return_or_raise()\n\u001B[1;32m    747\u001B[0m \u001B[38;5;66;03m# For other backends, the main thread needs to run the retrieval step.\u001B[39;00m\n\u001B[1;32m    748\u001B[0m \u001B[38;5;28;01mtry\u001B[39;00m:\n",
      "File \u001B[0;32m~/miniconda3/envs/master/lib/python3.12/site-packages/joblib/parallel.py:763\u001B[0m, in \u001B[0;36mBatchCompletionCallBack._return_or_raise\u001B[0;34m(self)\u001B[0m\n\u001B[1;32m    761\u001B[0m \u001B[38;5;28;01mtry\u001B[39;00m:\n\u001B[1;32m    762\u001B[0m     \u001B[38;5;28;01mif\u001B[39;00m \u001B[38;5;28mself\u001B[39m\u001B[38;5;241m.\u001B[39mstatus \u001B[38;5;241m==\u001B[39m TASK_ERROR:\n\u001B[0;32m--> 763\u001B[0m         \u001B[38;5;28;01mraise\u001B[39;00m \u001B[38;5;28mself\u001B[39m\u001B[38;5;241m.\u001B[39m_result\n\u001B[1;32m    764\u001B[0m     \u001B[38;5;28;01mreturn\u001B[39;00m \u001B[38;5;28mself\u001B[39m\u001B[38;5;241m.\u001B[39m_result\n\u001B[1;32m    765\u001B[0m \u001B[38;5;28;01mfinally\u001B[39;00m:\n",
      "\u001B[0;31mTypeError\u001B[0m: The only supported seed types are: None,\nint, float, str, bytes, and bytearray."
     ]
    }
   ],
   "source": [
    "num_sim = 200\n",
    "method = 'SNRE' #SNPE or SNLE or SNRE\n",
    "posterior = infer(\n",
    "    simulator,\n",
    "    prior,\n",
    "    # See glossary for explanation of methods.\n",
    "    #    SNRE newer than SNLE newer than SNPE.\n",
    "    method=method,\n",
    "    num_workers=-1,\n",
    "    num_simulations=num_sim)"
   ],
   "metadata": {
    "collapsed": false,
    "ExecuteTime": {
     "end_time": "2024-07-19T08:57:53.147187Z",
     "start_time": "2024-07-19T08:57:50.688251Z"
    }
   },
   "id": "4323558e0e31ce8e"
  },
  {
   "cell_type": "code",
   "execution_count": 5,
   "outputs": [],
   "source": [
    "n_observations = 5\n",
    "observation = torch.tensor([3., -1.5])[None] + 0.5*torch.randn(n_observations, 2)"
   ],
   "metadata": {
    "collapsed": false,
    "ExecuteTime": {
     "end_time": "2024-07-19T08:57:59.338460Z",
     "start_time": "2024-07-19T08:57:59.327372Z"
    }
   },
   "id": "39bd980663569628"
  },
  {
   "cell_type": "code",
   "execution_count": 6,
   "outputs": [
    {
     "ename": "ModuleNotFoundError",
     "evalue": "No module named 'pandas.util.testing'",
     "output_type": "error",
     "traceback": [
      "\u001B[0;31m---------------------------------------------------------------------------\u001B[0m",
      "\u001B[0;31mModuleNotFoundError\u001B[0m                       Traceback (most recent call last)",
      "Cell \u001B[0;32mIn[6], line 3\u001B[0m\n\u001B[1;32m      1\u001B[0m \u001B[38;5;28;01mimport\u001B[39;00m \u001B[38;5;21;01mseaborn\u001B[39;00m \u001B[38;5;28;01mas\u001B[39;00m \u001B[38;5;21;01msns\u001B[39;00m\n\u001B[1;32m      2\u001B[0m \u001B[38;5;28;01mfrom\u001B[39;00m \u001B[38;5;21;01mmatplotlib\u001B[39;00m \u001B[38;5;28;01mimport\u001B[39;00m pyplot \u001B[38;5;28;01mas\u001B[39;00m plt\n\u001B[0;32m----> 3\u001B[0m \u001B[38;5;28;01mimport\u001B[39;00m \u001B[38;5;21;01mpandas\u001B[39;00m\u001B[38;5;21;01m.\u001B[39;00m\u001B[38;5;21;01mutil\u001B[39;00m\u001B[38;5;21;01m.\u001B[39;00m\u001B[38;5;21;01mtesting\u001B[39;00m \u001B[38;5;28;01mas\u001B[39;00m \u001B[38;5;21;01mtm\u001B[39;00m\n",
      "\u001B[0;31mModuleNotFoundError\u001B[0m: No module named 'pandas.util.testing'"
     ]
    }
   ],
   "source": [
    "import seaborn as sns\n",
    "from matplotlib import pyplot as plt\n",
    "import pandas.util.testing as tm"
   ],
   "metadata": {
    "collapsed": false,
    "ExecuteTime": {
     "end_time": "2024-07-19T08:58:00.624331Z",
     "start_time": "2024-07-19T08:58:00.614031Z"
    }
   },
   "id": "173ced655ea698b5"
  },
  {
   "cell_type": "code",
   "execution_count": 7,
   "outputs": [
    {
     "ename": "ValueError",
     "evalue": "\n$$x_1$$\n^\nParseException: Expected end of text, found '$'  (at char 0), (line:1, col:1)",
     "output_type": "error",
     "traceback": [
      "\u001B[0;31m---------------------------------------------------------------------------\u001B[0m",
      "\u001B[0;31mValueError\u001B[0m                                Traceback (most recent call last)",
      "File \u001B[0;32m~/miniconda3/envs/master/lib/python3.12/site-packages/IPython/core/formatters.py:343\u001B[0m, in \u001B[0;36mBaseFormatter.__call__\u001B[0;34m(self, obj)\u001B[0m\n\u001B[1;32m    341\u001B[0m     \u001B[38;5;28;01mpass\u001B[39;00m\n\u001B[1;32m    342\u001B[0m \u001B[38;5;28;01melse\u001B[39;00m:\n\u001B[0;32m--> 343\u001B[0m     \u001B[38;5;28;01mreturn\u001B[39;00m printer(obj)\n\u001B[1;32m    344\u001B[0m \u001B[38;5;66;03m# Finally look for special method names\u001B[39;00m\n\u001B[1;32m    345\u001B[0m method \u001B[38;5;241m=\u001B[39m get_real_method(obj, \u001B[38;5;28mself\u001B[39m\u001B[38;5;241m.\u001B[39mprint_method)\n",
      "File \u001B[0;32m~/miniconda3/envs/master/lib/python3.12/site-packages/IPython/core/pylabtools.py:170\u001B[0m, in \u001B[0;36mprint_figure\u001B[0;34m(fig, fmt, bbox_inches, base64, **kwargs)\u001B[0m\n\u001B[1;32m    167\u001B[0m     \u001B[38;5;28;01mfrom\u001B[39;00m \u001B[38;5;21;01mmatplotlib\u001B[39;00m\u001B[38;5;21;01m.\u001B[39;00m\u001B[38;5;21;01mbackend_bases\u001B[39;00m \u001B[38;5;28;01mimport\u001B[39;00m FigureCanvasBase\n\u001B[1;32m    168\u001B[0m     FigureCanvasBase(fig)\n\u001B[0;32m--> 170\u001B[0m fig\u001B[38;5;241m.\u001B[39mcanvas\u001B[38;5;241m.\u001B[39mprint_figure(bytes_io, \u001B[38;5;241m*\u001B[39m\u001B[38;5;241m*\u001B[39mkw)\n\u001B[1;32m    171\u001B[0m data \u001B[38;5;241m=\u001B[39m bytes_io\u001B[38;5;241m.\u001B[39mgetvalue()\n\u001B[1;32m    172\u001B[0m \u001B[38;5;28;01mif\u001B[39;00m fmt \u001B[38;5;241m==\u001B[39m \u001B[38;5;124m'\u001B[39m\u001B[38;5;124msvg\u001B[39m\u001B[38;5;124m'\u001B[39m:\n",
      "File \u001B[0;32m~/miniconda3/envs/master/lib/python3.12/site-packages/matplotlib/backend_bases.py:2164\u001B[0m, in \u001B[0;36mFigureCanvasBase.print_figure\u001B[0;34m(self, filename, dpi, facecolor, edgecolor, orientation, format, bbox_inches, pad_inches, bbox_extra_artists, backend, **kwargs)\u001B[0m\n\u001B[1;32m   2161\u001B[0m     \u001B[38;5;66;03m# we do this instead of `self.figure.draw_without_rendering`\u001B[39;00m\n\u001B[1;32m   2162\u001B[0m     \u001B[38;5;66;03m# so that we can inject the orientation\u001B[39;00m\n\u001B[1;32m   2163\u001B[0m     \u001B[38;5;28;01mwith\u001B[39;00m \u001B[38;5;28mgetattr\u001B[39m(renderer, \u001B[38;5;124m\"\u001B[39m\u001B[38;5;124m_draw_disabled\u001B[39m\u001B[38;5;124m\"\u001B[39m, nullcontext)():\n\u001B[0;32m-> 2164\u001B[0m         \u001B[38;5;28mself\u001B[39m\u001B[38;5;241m.\u001B[39mfigure\u001B[38;5;241m.\u001B[39mdraw(renderer)\n\u001B[1;32m   2165\u001B[0m \u001B[38;5;28;01mif\u001B[39;00m bbox_inches:\n\u001B[1;32m   2166\u001B[0m     \u001B[38;5;28;01mif\u001B[39;00m bbox_inches \u001B[38;5;241m==\u001B[39m \u001B[38;5;124m\"\u001B[39m\u001B[38;5;124mtight\u001B[39m\u001B[38;5;124m\"\u001B[39m:\n",
      "File \u001B[0;32m~/miniconda3/envs/master/lib/python3.12/site-packages/matplotlib/artist.py:95\u001B[0m, in \u001B[0;36m_finalize_rasterization.<locals>.draw_wrapper\u001B[0;34m(artist, renderer, *args, **kwargs)\u001B[0m\n\u001B[1;32m     93\u001B[0m \u001B[38;5;129m@wraps\u001B[39m(draw)\n\u001B[1;32m     94\u001B[0m \u001B[38;5;28;01mdef\u001B[39;00m \u001B[38;5;21mdraw_wrapper\u001B[39m(artist, renderer, \u001B[38;5;241m*\u001B[39margs, \u001B[38;5;241m*\u001B[39m\u001B[38;5;241m*\u001B[39mkwargs):\n\u001B[0;32m---> 95\u001B[0m     result \u001B[38;5;241m=\u001B[39m draw(artist, renderer, \u001B[38;5;241m*\u001B[39margs, \u001B[38;5;241m*\u001B[39m\u001B[38;5;241m*\u001B[39mkwargs)\n\u001B[1;32m     96\u001B[0m     \u001B[38;5;28;01mif\u001B[39;00m renderer\u001B[38;5;241m.\u001B[39m_rasterizing:\n\u001B[1;32m     97\u001B[0m         renderer\u001B[38;5;241m.\u001B[39mstop_rasterizing()\n",
      "File \u001B[0;32m~/miniconda3/envs/master/lib/python3.12/site-packages/matplotlib/artist.py:72\u001B[0m, in \u001B[0;36mallow_rasterization.<locals>.draw_wrapper\u001B[0;34m(artist, renderer)\u001B[0m\n\u001B[1;32m     69\u001B[0m     \u001B[38;5;28;01mif\u001B[39;00m artist\u001B[38;5;241m.\u001B[39mget_agg_filter() \u001B[38;5;129;01mis\u001B[39;00m \u001B[38;5;129;01mnot\u001B[39;00m \u001B[38;5;28;01mNone\u001B[39;00m:\n\u001B[1;32m     70\u001B[0m         renderer\u001B[38;5;241m.\u001B[39mstart_filter()\n\u001B[0;32m---> 72\u001B[0m     \u001B[38;5;28;01mreturn\u001B[39;00m draw(artist, renderer)\n\u001B[1;32m     73\u001B[0m \u001B[38;5;28;01mfinally\u001B[39;00m:\n\u001B[1;32m     74\u001B[0m     \u001B[38;5;28;01mif\u001B[39;00m artist\u001B[38;5;241m.\u001B[39mget_agg_filter() \u001B[38;5;129;01mis\u001B[39;00m \u001B[38;5;129;01mnot\u001B[39;00m \u001B[38;5;28;01mNone\u001B[39;00m:\n",
      "File \u001B[0;32m~/miniconda3/envs/master/lib/python3.12/site-packages/matplotlib/figure.py:3154\u001B[0m, in \u001B[0;36mFigure.draw\u001B[0;34m(self, renderer)\u001B[0m\n\u001B[1;32m   3151\u001B[0m         \u001B[38;5;66;03m# ValueError can occur when resizing a window.\u001B[39;00m\n\u001B[1;32m   3153\u001B[0m \u001B[38;5;28mself\u001B[39m\u001B[38;5;241m.\u001B[39mpatch\u001B[38;5;241m.\u001B[39mdraw(renderer)\n\u001B[0;32m-> 3154\u001B[0m mimage\u001B[38;5;241m.\u001B[39m_draw_list_compositing_images(\n\u001B[1;32m   3155\u001B[0m     renderer, \u001B[38;5;28mself\u001B[39m, artists, \u001B[38;5;28mself\u001B[39m\u001B[38;5;241m.\u001B[39msuppressComposite)\n\u001B[1;32m   3157\u001B[0m \u001B[38;5;28;01mfor\u001B[39;00m sfig \u001B[38;5;129;01min\u001B[39;00m \u001B[38;5;28mself\u001B[39m\u001B[38;5;241m.\u001B[39msubfigs:\n\u001B[1;32m   3158\u001B[0m     sfig\u001B[38;5;241m.\u001B[39mdraw(renderer)\n",
      "File \u001B[0;32m~/miniconda3/envs/master/lib/python3.12/site-packages/matplotlib/image.py:132\u001B[0m, in \u001B[0;36m_draw_list_compositing_images\u001B[0;34m(renderer, parent, artists, suppress_composite)\u001B[0m\n\u001B[1;32m    130\u001B[0m \u001B[38;5;28;01mif\u001B[39;00m not_composite \u001B[38;5;129;01mor\u001B[39;00m \u001B[38;5;129;01mnot\u001B[39;00m has_images:\n\u001B[1;32m    131\u001B[0m     \u001B[38;5;28;01mfor\u001B[39;00m a \u001B[38;5;129;01min\u001B[39;00m artists:\n\u001B[0;32m--> 132\u001B[0m         a\u001B[38;5;241m.\u001B[39mdraw(renderer)\n\u001B[1;32m    133\u001B[0m \u001B[38;5;28;01melse\u001B[39;00m:\n\u001B[1;32m    134\u001B[0m     \u001B[38;5;66;03m# Composite any adjacent images together\u001B[39;00m\n\u001B[1;32m    135\u001B[0m     image_group \u001B[38;5;241m=\u001B[39m []\n",
      "File \u001B[0;32m~/miniconda3/envs/master/lib/python3.12/site-packages/matplotlib/artist.py:72\u001B[0m, in \u001B[0;36mallow_rasterization.<locals>.draw_wrapper\u001B[0;34m(artist, renderer)\u001B[0m\n\u001B[1;32m     69\u001B[0m     \u001B[38;5;28;01mif\u001B[39;00m artist\u001B[38;5;241m.\u001B[39mget_agg_filter() \u001B[38;5;129;01mis\u001B[39;00m \u001B[38;5;129;01mnot\u001B[39;00m \u001B[38;5;28;01mNone\u001B[39;00m:\n\u001B[1;32m     70\u001B[0m         renderer\u001B[38;5;241m.\u001B[39mstart_filter()\n\u001B[0;32m---> 72\u001B[0m     \u001B[38;5;28;01mreturn\u001B[39;00m draw(artist, renderer)\n\u001B[1;32m     73\u001B[0m \u001B[38;5;28;01mfinally\u001B[39;00m:\n\u001B[1;32m     74\u001B[0m     \u001B[38;5;28;01mif\u001B[39;00m artist\u001B[38;5;241m.\u001B[39mget_agg_filter() \u001B[38;5;129;01mis\u001B[39;00m \u001B[38;5;129;01mnot\u001B[39;00m \u001B[38;5;28;01mNone\u001B[39;00m:\n",
      "File \u001B[0;32m~/miniconda3/envs/master/lib/python3.12/site-packages/matplotlib/axes/_base.py:3034\u001B[0m, in \u001B[0;36m_AxesBase.draw\u001B[0;34m(self, renderer)\u001B[0m\n\u001B[1;32m   3031\u001B[0m     \u001B[38;5;28;01mfor\u001B[39;00m spine \u001B[38;5;129;01min\u001B[39;00m \u001B[38;5;28mself\u001B[39m\u001B[38;5;241m.\u001B[39mspines\u001B[38;5;241m.\u001B[39mvalues():\n\u001B[1;32m   3032\u001B[0m         artists\u001B[38;5;241m.\u001B[39mremove(spine)\n\u001B[0;32m-> 3034\u001B[0m \u001B[38;5;28mself\u001B[39m\u001B[38;5;241m.\u001B[39m_update_title_position(renderer)\n\u001B[1;32m   3036\u001B[0m \u001B[38;5;28;01mif\u001B[39;00m \u001B[38;5;129;01mnot\u001B[39;00m \u001B[38;5;28mself\u001B[39m\u001B[38;5;241m.\u001B[39maxison:\n\u001B[1;32m   3037\u001B[0m     \u001B[38;5;28;01mfor\u001B[39;00m _axis \u001B[38;5;129;01min\u001B[39;00m \u001B[38;5;28mself\u001B[39m\u001B[38;5;241m.\u001B[39m_axis_map\u001B[38;5;241m.\u001B[39mvalues():\n",
      "File \u001B[0;32m~/miniconda3/envs/master/lib/python3.12/site-packages/matplotlib/axes/_base.py:2969\u001B[0m, in \u001B[0;36m_AxesBase._update_title_position\u001B[0;34m(self, renderer)\u001B[0m\n\u001B[1;32m   2966\u001B[0m bb \u001B[38;5;241m=\u001B[39m \u001B[38;5;28;01mNone\u001B[39;00m\n\u001B[1;32m   2967\u001B[0m \u001B[38;5;28;01mif\u001B[39;00m (ax\u001B[38;5;241m.\u001B[39mxaxis\u001B[38;5;241m.\u001B[39mget_ticks_position() \u001B[38;5;129;01min\u001B[39;00m [\u001B[38;5;124m'\u001B[39m\u001B[38;5;124mtop\u001B[39m\u001B[38;5;124m'\u001B[39m, \u001B[38;5;124m'\u001B[39m\u001B[38;5;124munknown\u001B[39m\u001B[38;5;124m'\u001B[39m]\n\u001B[1;32m   2968\u001B[0m         \u001B[38;5;129;01mor\u001B[39;00m ax\u001B[38;5;241m.\u001B[39mxaxis\u001B[38;5;241m.\u001B[39mget_label_position() \u001B[38;5;241m==\u001B[39m \u001B[38;5;124m'\u001B[39m\u001B[38;5;124mtop\u001B[39m\u001B[38;5;124m'\u001B[39m):\n\u001B[0;32m-> 2969\u001B[0m     bb \u001B[38;5;241m=\u001B[39m ax\u001B[38;5;241m.\u001B[39mxaxis\u001B[38;5;241m.\u001B[39mget_tightbbox(renderer)\n\u001B[1;32m   2970\u001B[0m \u001B[38;5;28;01mif\u001B[39;00m bb \u001B[38;5;129;01mis\u001B[39;00m \u001B[38;5;28;01mNone\u001B[39;00m:\n\u001B[1;32m   2971\u001B[0m     \u001B[38;5;28;01mif\u001B[39;00m \u001B[38;5;124m'\u001B[39m\u001B[38;5;124moutline\u001B[39m\u001B[38;5;124m'\u001B[39m \u001B[38;5;129;01min\u001B[39;00m ax\u001B[38;5;241m.\u001B[39mspines:\n\u001B[1;32m   2972\u001B[0m         \u001B[38;5;66;03m# Special case for colorbars:\u001B[39;00m\n",
      "File \u001B[0;32m~/miniconda3/envs/master/lib/python3.12/site-packages/matplotlib/axis.py:1352\u001B[0m, in \u001B[0;36mAxis.get_tightbbox\u001B[0;34m(self, renderer, for_layout_only)\u001B[0m\n\u001B[1;32m   1350\u001B[0m \u001B[38;5;66;03m# take care of label\u001B[39;00m\n\u001B[1;32m   1351\u001B[0m \u001B[38;5;28;01mif\u001B[39;00m \u001B[38;5;28mself\u001B[39m\u001B[38;5;241m.\u001B[39mlabel\u001B[38;5;241m.\u001B[39mget_visible():\n\u001B[0;32m-> 1352\u001B[0m     bb \u001B[38;5;241m=\u001B[39m \u001B[38;5;28mself\u001B[39m\u001B[38;5;241m.\u001B[39mlabel\u001B[38;5;241m.\u001B[39mget_window_extent(renderer)\n\u001B[1;32m   1353\u001B[0m     \u001B[38;5;66;03m# for constrained/tight_layout, we want to ignore the label's\u001B[39;00m\n\u001B[1;32m   1354\u001B[0m     \u001B[38;5;66;03m# width/height because the adjustments they make can't be improved.\u001B[39;00m\n\u001B[1;32m   1355\u001B[0m     \u001B[38;5;66;03m# this code collapses the relevant direction\u001B[39;00m\n\u001B[1;32m   1356\u001B[0m     \u001B[38;5;28;01mif\u001B[39;00m for_layout_only:\n",
      "File \u001B[0;32m~/miniconda3/envs/master/lib/python3.12/site-packages/matplotlib/text.py:956\u001B[0m, in \u001B[0;36mText.get_window_extent\u001B[0;34m(self, renderer, dpi)\u001B[0m\n\u001B[1;32m    951\u001B[0m     \u001B[38;5;28;01mraise\u001B[39;00m \u001B[38;5;167;01mRuntimeError\u001B[39;00m(\n\u001B[1;32m    952\u001B[0m         \u001B[38;5;124m\"\u001B[39m\u001B[38;5;124mCannot get window extent of text w/o renderer. You likely \u001B[39m\u001B[38;5;124m\"\u001B[39m\n\u001B[1;32m    953\u001B[0m         \u001B[38;5;124m\"\u001B[39m\u001B[38;5;124mwant to call \u001B[39m\u001B[38;5;124m'\u001B[39m\u001B[38;5;124mfigure.draw_without_rendering()\u001B[39m\u001B[38;5;124m'\u001B[39m\u001B[38;5;124m first.\u001B[39m\u001B[38;5;124m\"\u001B[39m)\n\u001B[1;32m    955\u001B[0m \u001B[38;5;28;01mwith\u001B[39;00m cbook\u001B[38;5;241m.\u001B[39m_setattr_cm(\u001B[38;5;28mself\u001B[39m\u001B[38;5;241m.\u001B[39mfigure, dpi\u001B[38;5;241m=\u001B[39mdpi):\n\u001B[0;32m--> 956\u001B[0m     bbox, info, descent \u001B[38;5;241m=\u001B[39m \u001B[38;5;28mself\u001B[39m\u001B[38;5;241m.\u001B[39m_get_layout(\u001B[38;5;28mself\u001B[39m\u001B[38;5;241m.\u001B[39m_renderer)\n\u001B[1;32m    957\u001B[0m     x, y \u001B[38;5;241m=\u001B[39m \u001B[38;5;28mself\u001B[39m\u001B[38;5;241m.\u001B[39mget_unitless_position()\n\u001B[1;32m    958\u001B[0m     x, y \u001B[38;5;241m=\u001B[39m \u001B[38;5;28mself\u001B[39m\u001B[38;5;241m.\u001B[39mget_transform()\u001B[38;5;241m.\u001B[39mtransform((x, y))\n",
      "File \u001B[0;32m~/miniconda3/envs/master/lib/python3.12/site-packages/matplotlib/text.py:381\u001B[0m, in \u001B[0;36mText._get_layout\u001B[0;34m(self, renderer)\u001B[0m\n\u001B[1;32m    379\u001B[0m clean_line, ismath \u001B[38;5;241m=\u001B[39m \u001B[38;5;28mself\u001B[39m\u001B[38;5;241m.\u001B[39m_preprocess_math(line)\n\u001B[1;32m    380\u001B[0m \u001B[38;5;28;01mif\u001B[39;00m clean_line:\n\u001B[0;32m--> 381\u001B[0m     w, h, d \u001B[38;5;241m=\u001B[39m _get_text_metrics_with_cache(\n\u001B[1;32m    382\u001B[0m         renderer, clean_line, \u001B[38;5;28mself\u001B[39m\u001B[38;5;241m.\u001B[39m_fontproperties,\n\u001B[1;32m    383\u001B[0m         ismath\u001B[38;5;241m=\u001B[39mismath, dpi\u001B[38;5;241m=\u001B[39m\u001B[38;5;28mself\u001B[39m\u001B[38;5;241m.\u001B[39mfigure\u001B[38;5;241m.\u001B[39mdpi)\n\u001B[1;32m    384\u001B[0m \u001B[38;5;28;01melse\u001B[39;00m:\n\u001B[1;32m    385\u001B[0m     w \u001B[38;5;241m=\u001B[39m h \u001B[38;5;241m=\u001B[39m d \u001B[38;5;241m=\u001B[39m \u001B[38;5;241m0\u001B[39m\n",
      "File \u001B[0;32m~/miniconda3/envs/master/lib/python3.12/site-packages/matplotlib/text.py:69\u001B[0m, in \u001B[0;36m_get_text_metrics_with_cache\u001B[0;34m(renderer, text, fontprop, ismath, dpi)\u001B[0m\n\u001B[1;32m     66\u001B[0m \u001B[38;5;250m\u001B[39m\u001B[38;5;124;03m\"\"\"Call ``renderer.get_text_width_height_descent``, caching the results.\"\"\"\u001B[39;00m\n\u001B[1;32m     67\u001B[0m \u001B[38;5;66;03m# Cached based on a copy of fontprop so that later in-place mutations of\u001B[39;00m\n\u001B[1;32m     68\u001B[0m \u001B[38;5;66;03m# the passed-in argument do not mess up the cache.\u001B[39;00m\n\u001B[0;32m---> 69\u001B[0m \u001B[38;5;28;01mreturn\u001B[39;00m _get_text_metrics_with_cache_impl(\n\u001B[1;32m     70\u001B[0m     weakref\u001B[38;5;241m.\u001B[39mref(renderer), text, fontprop\u001B[38;5;241m.\u001B[39mcopy(), ismath, dpi)\n",
      "File \u001B[0;32m~/miniconda3/envs/master/lib/python3.12/site-packages/matplotlib/text.py:77\u001B[0m, in \u001B[0;36m_get_text_metrics_with_cache_impl\u001B[0;34m(renderer_ref, text, fontprop, ismath, dpi)\u001B[0m\n\u001B[1;32m     73\u001B[0m \u001B[38;5;129m@functools\u001B[39m\u001B[38;5;241m.\u001B[39mlru_cache(\u001B[38;5;241m4096\u001B[39m)\n\u001B[1;32m     74\u001B[0m \u001B[38;5;28;01mdef\u001B[39;00m \u001B[38;5;21m_get_text_metrics_with_cache_impl\u001B[39m(\n\u001B[1;32m     75\u001B[0m         renderer_ref, text, fontprop, ismath, dpi):\n\u001B[1;32m     76\u001B[0m     \u001B[38;5;66;03m# dpi is unused, but participates in cache invalidation (via the renderer).\u001B[39;00m\n\u001B[0;32m---> 77\u001B[0m     \u001B[38;5;28;01mreturn\u001B[39;00m renderer_ref()\u001B[38;5;241m.\u001B[39mget_text_width_height_descent(text, fontprop, ismath)\n",
      "File \u001B[0;32m~/miniconda3/envs/master/lib/python3.12/site-packages/matplotlib/backends/backend_agg.py:217\u001B[0m, in \u001B[0;36mRendererAgg.get_text_width_height_descent\u001B[0;34m(self, s, prop, ismath)\u001B[0m\n\u001B[1;32m    213\u001B[0m     \u001B[38;5;28;01mreturn\u001B[39;00m \u001B[38;5;28msuper\u001B[39m()\u001B[38;5;241m.\u001B[39mget_text_width_height_descent(s, prop, ismath)\n\u001B[1;32m    215\u001B[0m \u001B[38;5;28;01mif\u001B[39;00m ismath:\n\u001B[1;32m    216\u001B[0m     ox, oy, width, height, descent, font_image \u001B[38;5;241m=\u001B[39m \\\n\u001B[0;32m--> 217\u001B[0m         \u001B[38;5;28mself\u001B[39m\u001B[38;5;241m.\u001B[39mmathtext_parser\u001B[38;5;241m.\u001B[39mparse(s, \u001B[38;5;28mself\u001B[39m\u001B[38;5;241m.\u001B[39mdpi, prop)\n\u001B[1;32m    218\u001B[0m     \u001B[38;5;28;01mreturn\u001B[39;00m width, height, descent\n\u001B[1;32m    220\u001B[0m font \u001B[38;5;241m=\u001B[39m \u001B[38;5;28mself\u001B[39m\u001B[38;5;241m.\u001B[39m_prepare_font(prop)\n",
      "File \u001B[0;32m~/miniconda3/envs/master/lib/python3.12/site-packages/matplotlib/mathtext.py:79\u001B[0m, in \u001B[0;36mMathTextParser.parse\u001B[0;34m(self, s, dpi, prop, antialiased)\u001B[0m\n\u001B[1;32m     77\u001B[0m prop \u001B[38;5;241m=\u001B[39m prop\u001B[38;5;241m.\u001B[39mcopy() \u001B[38;5;28;01mif\u001B[39;00m prop \u001B[38;5;129;01mis\u001B[39;00m \u001B[38;5;129;01mnot\u001B[39;00m \u001B[38;5;28;01mNone\u001B[39;00m \u001B[38;5;28;01melse\u001B[39;00m \u001B[38;5;28;01mNone\u001B[39;00m\n\u001B[1;32m     78\u001B[0m antialiased \u001B[38;5;241m=\u001B[39m mpl\u001B[38;5;241m.\u001B[39m_val_or_rc(antialiased, \u001B[38;5;124m'\u001B[39m\u001B[38;5;124mtext.antialiased\u001B[39m\u001B[38;5;124m'\u001B[39m)\n\u001B[0;32m---> 79\u001B[0m \u001B[38;5;28;01mreturn\u001B[39;00m \u001B[38;5;28mself\u001B[39m\u001B[38;5;241m.\u001B[39m_parse_cached(s, dpi, prop, antialiased)\n",
      "File \u001B[0;32m~/miniconda3/envs/master/lib/python3.12/site-packages/matplotlib/mathtext.py:100\u001B[0m, in \u001B[0;36mMathTextParser._parse_cached\u001B[0;34m(self, s, dpi, prop, antialiased)\u001B[0m\n\u001B[1;32m     97\u001B[0m \u001B[38;5;28;01mif\u001B[39;00m \u001B[38;5;28mself\u001B[39m\u001B[38;5;241m.\u001B[39m_parser \u001B[38;5;129;01mis\u001B[39;00m \u001B[38;5;28;01mNone\u001B[39;00m:  \u001B[38;5;66;03m# Cache the parser globally.\u001B[39;00m\n\u001B[1;32m     98\u001B[0m     \u001B[38;5;28mself\u001B[39m\u001B[38;5;241m.\u001B[39m\u001B[38;5;18m__class__\u001B[39m\u001B[38;5;241m.\u001B[39m_parser \u001B[38;5;241m=\u001B[39m _mathtext\u001B[38;5;241m.\u001B[39mParser()\n\u001B[0;32m--> 100\u001B[0m box \u001B[38;5;241m=\u001B[39m \u001B[38;5;28mself\u001B[39m\u001B[38;5;241m.\u001B[39m_parser\u001B[38;5;241m.\u001B[39mparse(s, fontset, fontsize, dpi)\n\u001B[1;32m    101\u001B[0m output \u001B[38;5;241m=\u001B[39m _mathtext\u001B[38;5;241m.\u001B[39mship(box)\n\u001B[1;32m    102\u001B[0m \u001B[38;5;28;01mif\u001B[39;00m \u001B[38;5;28mself\u001B[39m\u001B[38;5;241m.\u001B[39m_output_type \u001B[38;5;241m==\u001B[39m \u001B[38;5;124m\"\u001B[39m\u001B[38;5;124mvector\u001B[39m\u001B[38;5;124m\"\u001B[39m:\n",
      "File \u001B[0;32m~/miniconda3/envs/master/lib/python3.12/site-packages/matplotlib/_mathtext.py:2165\u001B[0m, in \u001B[0;36mParser.parse\u001B[0;34m(self, s, fonts_object, fontsize, dpi)\u001B[0m\n\u001B[1;32m   2162\u001B[0m     result \u001B[38;5;241m=\u001B[39m \u001B[38;5;28mself\u001B[39m\u001B[38;5;241m.\u001B[39m_expression\u001B[38;5;241m.\u001B[39mparseString(s)\n\u001B[1;32m   2163\u001B[0m \u001B[38;5;28;01mexcept\u001B[39;00m ParseBaseException \u001B[38;5;28;01mas\u001B[39;00m err:\n\u001B[1;32m   2164\u001B[0m     \u001B[38;5;66;03m# explain becomes a plain method on pyparsing 3 (err.explain(0)).\u001B[39;00m\n\u001B[0;32m-> 2165\u001B[0m     \u001B[38;5;28;01mraise\u001B[39;00m \u001B[38;5;167;01mValueError\u001B[39;00m(\u001B[38;5;124m\"\u001B[39m\u001B[38;5;130;01m\\n\u001B[39;00m\u001B[38;5;124m\"\u001B[39m \u001B[38;5;241m+\u001B[39m ParseException\u001B[38;5;241m.\u001B[39mexplain(err, \u001B[38;5;241m0\u001B[39m)) \u001B[38;5;28;01mfrom\u001B[39;00m \u001B[38;5;28;01mNone\u001B[39;00m\n\u001B[1;32m   2166\u001B[0m \u001B[38;5;28mself\u001B[39m\u001B[38;5;241m.\u001B[39m_state_stack \u001B[38;5;241m=\u001B[39m []\n\u001B[1;32m   2167\u001B[0m \u001B[38;5;28mself\u001B[39m\u001B[38;5;241m.\u001B[39m_in_subscript_or_superscript \u001B[38;5;241m=\u001B[39m \u001B[38;5;28;01mFalse\u001B[39;00m\n",
      "\u001B[0;31mValueError\u001B[0m: \n$$x_1$$\n^\nParseException: Expected end of text, found '$'  (at char 0), (line:1, col:1)"
     ]
    },
    {
     "data": {
      "text/plain": "<Figure size 640x480 with 1 Axes>"
     },
     "metadata": {},
     "output_type": "display_data"
    }
   ],
   "source": [
    "sns.scatterplot(x=observation[:, 0], y=observation[:, 1])\n",
    "plt.xlabel(r'$$x_1$$')\n",
    "plt.ylabel(r'$$x_2$$')\n",
    "plt.xlim(-10, 10)\n",
    "plt.ylim(-10, 10)\n",
    "plt.show()"
   ],
   "metadata": {
    "collapsed": false,
    "ExecuteTime": {
     "end_time": "2024-07-19T08:58:07.903158Z",
     "start_time": "2024-07-19T08:58:06.607680Z"
    }
   },
   "id": "75ac97ec77734161"
  },
  {
   "cell_type": "code",
   "execution_count": null,
   "outputs": [],
   "source": [
    "samples = posterior.sample((200,), x=observation[0])"
   ],
   "metadata": {
    "collapsed": false,
    "ExecuteTime": {
     "start_time": "2024-07-19T08:57:53.145720Z"
    }
   },
   "id": "738c575b1f26982d"
  },
  {
   "cell_type": "code",
   "execution_count": null,
   "outputs": [],
   "source": [
    "log_probability = posterior.log_prob(samples, x=observation[0])\n",
    "out = utils.pairplot(samples, limits=[[-5,5],[-5,5]], fig_size=(6,6), upper='kde', diag='kde')"
   ],
   "metadata": {
    "collapsed": false,
    "ExecuteTime": {
     "start_time": "2024-07-19T08:57:53.146795Z"
    }
   },
   "id": "71811bb7653ec0aa"
  },
  {
   "cell_type": "code",
   "execution_count": null,
   "outputs": [],
   "source": [
    "import numpy as np\n",
    "\n",
    "bounds = [3-1, 3+1, -1.5-1, -1.5+1]\n",
    "\n",
    "mu_1, mu_2 = torch.tensor(np.mgrid[bounds[0]:bounds[1]:2/50., bounds[2]:bounds[3]:2/50.]).float()\n",
    "\n",
    "grids = torch.cat(\n",
    "    (mu_1.reshape(-1, 1), mu_2.reshape(-1, 1)),\n",
    "    dim=1\n",
    ")"
   ],
   "metadata": {
    "collapsed": false,
    "ExecuteTime": {
     "start_time": "2024-07-19T08:57:53.147619Z"
    }
   },
   "id": "94c6df9d18c9ddb2"
  },
  {
   "cell_type": "code",
   "execution_count": null,
   "outputs": [],
   "source": [
    "if method == 'SNPE':\n",
    "    log_prob = sum([\n",
    "        posterior.log_prob(grids, observation[i])\n",
    "        for i in range(len(observation))\n",
    "    ])\n",
    "else:\n",
    "    log_prob = sum([\n",
    "        posterior.net(torch.cat((grids, observation[i].repeat((grids.shape[0])).reshape(-1, 2)), dim=1))[:, 0] + posterior._prior.log_prob(grids)\n",
    "        for i in range(len(observation))\n",
    "    ]).detach()\n",
    "\n",
    "prob = torch.exp(log_prob - log_prob.max())\n",
    "plt.figure(dpi=200)\n",
    "plt.plot([2, 4], [-1.5, -1.5], color='k')\n",
    "plt.plot([3, 3], [-0.5, -2.5], color='k')\n",
    "plt.contourf(prob.reshape(*mu_1.shape), extent=bounds, origin='lower')\n",
    "plt.axis('scaled')\n",
    "plt.xlim(2+0.3, 4-0.3)\n",
    "plt.ylim(-2.5+0.3, -0.5-0.3)\n",
    "plt.title('Posterior with learned likelihood\\nfrom %d examples of'%(num_sim)+r' $$\\mu_i\\in[-5, 5]$$')\n",
    "plt.xlabel(r'$$\\mu_1$$')\n",
    "plt.ylabel(r'$$\\mu_2$$')"
   ],
   "metadata": {
    "collapsed": false,
    "ExecuteTime": {
     "start_time": "2024-07-19T08:57:53.148353Z"
    }
   },
   "id": "620a041b25875b0f"
  },
  {
   "cell_type": "code",
   "execution_count": null,
   "outputs": [],
   "source": [
    "true_like = lambda x: -((x[0] - mu_1)**2 + (x[1] - mu_2)**2)/(2*0.5**2)\n",
    "log_prob = sum([true_like(observation[i]) for i in range(len(observation))])\n",
    "plt.figure(dpi=200)\n",
    "prob = torch.exp(log_prob - log_prob.max())\n",
    "plt.plot([2, 4], [-1.5, -1.5], color='k')\n",
    "plt.plot([3, 3], [-0.5, -2.5], color='k')\n",
    "plt.contourf(prob.reshape(*mu_1.shape), extent=bounds, origin='lower')\n",
    "plt.axis('scaled')\n",
    "plt.xlim(2+0.3, 4-0.3)\n",
    "plt.ylim(-2.5+0.3, -0.5-0.3)\n",
    "plt.title('Posterior with\\nanalytic likelihood')\n",
    "plt.xlabel(r'$$\\mu_1$$')\n",
    "plt.ylabel(r'$$\\mu_2$$')"
   ],
   "metadata": {
    "collapsed": false,
    "ExecuteTime": {
     "start_time": "2024-07-19T08:57:53.149089Z"
    }
   },
   "id": "ad2f95fde936d8d5"
  }
 ],
 "metadata": {
  "kernelspec": {
   "display_name": "Python 3",
   "language": "python",
   "name": "python3"
  },
  "language_info": {
   "codemirror_mode": {
    "name": "ipython",
    "version": 2
   },
   "file_extension": ".py",
   "mimetype": "text/x-python",
   "name": "python",
   "nbconvert_exporter": "python",
   "pygments_lexer": "ipython2",
   "version": "2.7.6"
  }
 },
 "nbformat": 4,
 "nbformat_minor": 5
}
